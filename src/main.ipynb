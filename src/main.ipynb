{
 "cells": [
  {
   "cell_type": "code",
   "execution_count": 1,
   "metadata": {},
   "outputs": [],
   "source": [
    "# %pip install pandas\n",
    "# %pip install matplotlib\n",
    "# %pip install seaborn\n",
    "# %pip install numpy\n",
    "# %pip install scikit-learn\n",
    "# %pip install xgboost"
   ]
  },
  {
   "cell_type": "code",
   "execution_count": 2,
   "metadata": {},
   "outputs": [],
   "source": [
    "import pandas as pd\n",
    "import seaborn as sns\n",
    "import matplotlib.pyplot as plt\n",
    "import numpy as np\n",
    "from sklearn.discriminant_analysis import LinearDiscriminantAnalysis\n",
    "from sklearn.ensemble import RandomForestClassifier\n",
    "from sklearn.metrics import roc_auc_score, classification_report\n",
    "from sklearn.model_selection import StratifiedKFold, train_test_split\n",
    "from xgboost import XGBClassifier\n",
    "from sklearn.decomposition import PCA, KernelPCA"
   ]
  },
  {
   "cell_type": "code",
   "execution_count": 3,
   "metadata": {},
   "outputs": [],
   "source": [
    "class Flags:\n",
    "    KEEP_TAXONOMY = False\n",
    "    OMIT_ABSENT = True\n",
    "    DRAW_PLOTS = False\n",
    "    SAVE_PLOTS = False\n",
    "    SEED = 0\n",
    "    PRINT_FOLDS = False"
   ]
  },
  {
   "cell_type": "code",
   "execution_count": 4,
   "metadata": {},
   "outputs": [],
   "source": [
    "class Util:\n",
    "    binary_target = None\n",
    "    kfold = None\n",
    "    folds = None"
   ]
  },
  {
   "cell_type": "markdown",
   "metadata": {},
   "source": [
    "### Visualization and Data Exploration"
   ]
  },
  {
   "cell_type": "code",
   "execution_count": 5,
   "metadata": {},
   "outputs": [
    {
     "name": "stdout",
     "output_type": "stream",
     "text": [
      "Bacteria: 5619\n",
      "Patients: 61\n"
     ]
    },
    {
     "data": {
      "text/html": [
       "<div>\n",
       "<style scoped>\n",
       "    .dataframe tbody tr th:only-of-type {\n",
       "        vertical-align: middle;\n",
       "    }\n",
       "\n",
       "    .dataframe tbody tr th {\n",
       "        vertical-align: top;\n",
       "    }\n",
       "\n",
       "    .dataframe thead th {\n",
       "        text-align: right;\n",
       "    }\n",
       "</style>\n",
       "<table border=\"1\" class=\"dataframe\">\n",
       "  <thead>\n",
       "    <tr style=\"text-align: right;\">\n",
       "      <th></th>\n",
       "      <th>Taxonomy</th>\n",
       "      <th>A3</th>\n",
       "      <th>A5</th>\n",
       "      <th>A6</th>\n",
       "      <th>A9</th>\n",
       "      <th>A31</th>\n",
       "      <th>A51</th>\n",
       "      <th>A52</th>\n",
       "      <th>A53</th>\n",
       "      <th>A54</th>\n",
       "      <th>...</th>\n",
       "      <th>B120</th>\n",
       "      <th>B127</th>\n",
       "      <th>B132</th>\n",
       "      <th>B141</th>\n",
       "      <th>B142</th>\n",
       "      <th>B143</th>\n",
       "      <th>B152</th>\n",
       "      <th>B156</th>\n",
       "      <th>B158</th>\n",
       "      <th>B164</th>\n",
       "    </tr>\n",
       "  </thead>\n",
       "  <tbody>\n",
       "    <tr>\n",
       "      <th>0</th>\n",
       "      <td>g__Faecalibacterium;s__Faecalibacterium prausn...</td>\n",
       "      <td>4988</td>\n",
       "      <td>5060</td>\n",
       "      <td>2905</td>\n",
       "      <td>5745</td>\n",
       "      <td>4822</td>\n",
       "      <td>3889</td>\n",
       "      <td>4646</td>\n",
       "      <td>6337</td>\n",
       "      <td>5064</td>\n",
       "      <td>...</td>\n",
       "      <td>4471</td>\n",
       "      <td>5868</td>\n",
       "      <td>6561</td>\n",
       "      <td>4910</td>\n",
       "      <td>4492</td>\n",
       "      <td>2812</td>\n",
       "      <td>5303</td>\n",
       "      <td>4205</td>\n",
       "      <td>3430</td>\n",
       "      <td>4563</td>\n",
       "    </tr>\n",
       "    <tr>\n",
       "      <th>1</th>\n",
       "      <td>g__Hungatella;s__Hungatella hathewayi</td>\n",
       "      <td>5803</td>\n",
       "      <td>5612</td>\n",
       "      <td>4109</td>\n",
       "      <td>1432</td>\n",
       "      <td>2652</td>\n",
       "      <td>4175</td>\n",
       "      <td>3891</td>\n",
       "      <td>894</td>\n",
       "      <td>4903</td>\n",
       "      <td>...</td>\n",
       "      <td>2126</td>\n",
       "      <td>4429</td>\n",
       "      <td>2598</td>\n",
       "      <td>4222</td>\n",
       "      <td>4925</td>\n",
       "      <td>5753</td>\n",
       "      <td>1261</td>\n",
       "      <td>1822</td>\n",
       "      <td>2478</td>\n",
       "      <td>4868</td>\n",
       "    </tr>\n",
       "    <tr>\n",
       "      <th>2</th>\n",
       "      <td>g__Clostridium;s__uncultured Clostridium sp.</td>\n",
       "      <td>3793</td>\n",
       "      <td>2795</td>\n",
       "      <td>1355</td>\n",
       "      <td>5558</td>\n",
       "      <td>5383</td>\n",
       "      <td>3505</td>\n",
       "      <td>5541</td>\n",
       "      <td>4429</td>\n",
       "      <td>4121</td>\n",
       "      <td>...</td>\n",
       "      <td>4085</td>\n",
       "      <td>6041</td>\n",
       "      <td>6188</td>\n",
       "      <td>3960</td>\n",
       "      <td>4403</td>\n",
       "      <td>2841</td>\n",
       "      <td>2746</td>\n",
       "      <td>3808</td>\n",
       "      <td>3856</td>\n",
       "      <td>3211</td>\n",
       "    </tr>\n",
       "    <tr>\n",
       "      <th>3</th>\n",
       "      <td>g__Butyricimonas;s__Butyricimonas virosa</td>\n",
       "      <td>64</td>\n",
       "      <td>1385</td>\n",
       "      <td>725</td>\n",
       "      <td>1553</td>\n",
       "      <td>40</td>\n",
       "      <td>53</td>\n",
       "      <td>33</td>\n",
       "      <td>175</td>\n",
       "      <td>58</td>\n",
       "      <td>...</td>\n",
       "      <td>2065</td>\n",
       "      <td>21</td>\n",
       "      <td>27</td>\n",
       "      <td>55</td>\n",
       "      <td>35</td>\n",
       "      <td>8</td>\n",
       "      <td>884</td>\n",
       "      <td>13</td>\n",
       "      <td>3</td>\n",
       "      <td>218</td>\n",
       "    </tr>\n",
       "    <tr>\n",
       "      <th>4</th>\n",
       "      <td>g__Alistipes;s__Alistipes indistinctus</td>\n",
       "      <td>15</td>\n",
       "      <td>20</td>\n",
       "      <td>723</td>\n",
       "      <td>620</td>\n",
       "      <td>3261</td>\n",
       "      <td>43</td>\n",
       "      <td>83</td>\n",
       "      <td>37</td>\n",
       "      <td>43</td>\n",
       "      <td>...</td>\n",
       "      <td>90</td>\n",
       "      <td>22</td>\n",
       "      <td>30</td>\n",
       "      <td>1027</td>\n",
       "      <td>2641</td>\n",
       "      <td>4</td>\n",
       "      <td>1587</td>\n",
       "      <td>2223</td>\n",
       "      <td>6</td>\n",
       "      <td>1473</td>\n",
       "    </tr>\n",
       "  </tbody>\n",
       "</table>\n",
       "<p>5 rows × 61 columns</p>\n",
       "</div>"
      ],
      "text/plain": [
       "                                            Taxonomy    A3    A5    A6    A9  \\\n",
       "0  g__Faecalibacterium;s__Faecalibacterium prausn...  4988  5060  2905  5745   \n",
       "1              g__Hungatella;s__Hungatella hathewayi  5803  5612  4109  1432   \n",
       "2       g__Clostridium;s__uncultured Clostridium sp.  3793  2795  1355  5558   \n",
       "3           g__Butyricimonas;s__Butyricimonas virosa    64  1385   725  1553   \n",
       "4             g__Alistipes;s__Alistipes indistinctus    15    20   723   620   \n",
       "\n",
       "    A31   A51   A52   A53   A54  ...  B120  B127  B132  B141  B142  B143  \\\n",
       "0  4822  3889  4646  6337  5064  ...  4471  5868  6561  4910  4492  2812   \n",
       "1  2652  4175  3891   894  4903  ...  2126  4429  2598  4222  4925  5753   \n",
       "2  5383  3505  5541  4429  4121  ...  4085  6041  6188  3960  4403  2841   \n",
       "3    40    53    33   175    58  ...  2065    21    27    55    35     8   \n",
       "4  3261    43    83    37    43  ...    90    22    30  1027  2641     4   \n",
       "\n",
       "   B152  B156  B158  B164  \n",
       "0  5303  4205  3430  4563  \n",
       "1  1261  1822  2478  4868  \n",
       "2  2746  3808  3856  3211  \n",
       "3   884    13     3   218  \n",
       "4  1587  2223     6  1473  \n",
       "\n",
       "[5 rows x 61 columns]"
      ]
     },
     "execution_count": 5,
     "metadata": {},
     "output_type": "execute_result"
    }
   ],
   "source": [
    "data = pd.read_csv( '../data/data_1.csv' )\n",
    "print( 'Bacteria:', data.shape[0] )\n",
    "print( 'Patients:', data.shape[1] )\n",
    "data.head()"
   ]
  },
  {
   "cell_type": "code",
   "execution_count": 6,
   "metadata": {},
   "outputs": [
    {
     "data": {
      "text/html": [
       "<div>\n",
       "<style scoped>\n",
       "    .dataframe tbody tr th:only-of-type {\n",
       "        vertical-align: middle;\n",
       "    }\n",
       "\n",
       "    .dataframe tbody tr th {\n",
       "        vertical-align: top;\n",
       "    }\n",
       "\n",
       "    .dataframe thead th {\n",
       "        text-align: right;\n",
       "    }\n",
       "</style>\n",
       "<table border=\"1\" class=\"dataframe\">\n",
       "  <thead>\n",
       "    <tr style=\"text-align: right;\">\n",
       "      <th>Patient</th>\n",
       "      <th>0</th>\n",
       "      <th>1</th>\n",
       "      <th>2</th>\n",
       "      <th>3</th>\n",
       "      <th>4</th>\n",
       "      <th>5</th>\n",
       "      <th>6</th>\n",
       "      <th>7</th>\n",
       "      <th>8</th>\n",
       "      <th>9</th>\n",
       "      <th>...</th>\n",
       "      <th>5447</th>\n",
       "      <th>5448</th>\n",
       "      <th>5449</th>\n",
       "      <th>5450</th>\n",
       "      <th>5451</th>\n",
       "      <th>5452</th>\n",
       "      <th>5453</th>\n",
       "      <th>5454</th>\n",
       "      <th>5455</th>\n",
       "      <th>5456</th>\n",
       "    </tr>\n",
       "  </thead>\n",
       "  <tbody>\n",
       "    <tr>\n",
       "      <th>A3</th>\n",
       "      <td>4988</td>\n",
       "      <td>5803</td>\n",
       "      <td>3793</td>\n",
       "      <td>64</td>\n",
       "      <td>15</td>\n",
       "      <td>100</td>\n",
       "      <td>2119</td>\n",
       "      <td>12</td>\n",
       "      <td>453</td>\n",
       "      <td>1266</td>\n",
       "      <td>...</td>\n",
       "      <td>0</td>\n",
       "      <td>0</td>\n",
       "      <td>0</td>\n",
       "      <td>0</td>\n",
       "      <td>0</td>\n",
       "      <td>0</td>\n",
       "      <td>0</td>\n",
       "      <td>0</td>\n",
       "      <td>0</td>\n",
       "      <td>0</td>\n",
       "    </tr>\n",
       "    <tr>\n",
       "      <th>A5</th>\n",
       "      <td>5060</td>\n",
       "      <td>5612</td>\n",
       "      <td>2795</td>\n",
       "      <td>1385</td>\n",
       "      <td>20</td>\n",
       "      <td>29</td>\n",
       "      <td>1230</td>\n",
       "      <td>24</td>\n",
       "      <td>691</td>\n",
       "      <td>1682</td>\n",
       "      <td>...</td>\n",
       "      <td>0</td>\n",
       "      <td>0</td>\n",
       "      <td>0</td>\n",
       "      <td>0</td>\n",
       "      <td>0</td>\n",
       "      <td>0</td>\n",
       "      <td>0</td>\n",
       "      <td>0</td>\n",
       "      <td>0</td>\n",
       "      <td>0</td>\n",
       "    </tr>\n",
       "    <tr>\n",
       "      <th>A6</th>\n",
       "      <td>2905</td>\n",
       "      <td>4109</td>\n",
       "      <td>1355</td>\n",
       "      <td>725</td>\n",
       "      <td>723</td>\n",
       "      <td>11</td>\n",
       "      <td>1322</td>\n",
       "      <td>1</td>\n",
       "      <td>2278</td>\n",
       "      <td>43</td>\n",
       "      <td>...</td>\n",
       "      <td>0</td>\n",
       "      <td>0</td>\n",
       "      <td>0</td>\n",
       "      <td>0</td>\n",
       "      <td>0</td>\n",
       "      <td>0</td>\n",
       "      <td>0</td>\n",
       "      <td>0</td>\n",
       "      <td>0</td>\n",
       "      <td>0</td>\n",
       "    </tr>\n",
       "    <tr>\n",
       "      <th>A9</th>\n",
       "      <td>5745</td>\n",
       "      <td>1432</td>\n",
       "      <td>5558</td>\n",
       "      <td>1553</td>\n",
       "      <td>620</td>\n",
       "      <td>1320</td>\n",
       "      <td>2675</td>\n",
       "      <td>44</td>\n",
       "      <td>107</td>\n",
       "      <td>1726</td>\n",
       "      <td>...</td>\n",
       "      <td>0</td>\n",
       "      <td>0</td>\n",
       "      <td>0</td>\n",
       "      <td>0</td>\n",
       "      <td>0</td>\n",
       "      <td>0</td>\n",
       "      <td>0</td>\n",
       "      <td>0</td>\n",
       "      <td>1</td>\n",
       "      <td>0</td>\n",
       "    </tr>\n",
       "    <tr>\n",
       "      <th>A31</th>\n",
       "      <td>4822</td>\n",
       "      <td>2652</td>\n",
       "      <td>5383</td>\n",
       "      <td>40</td>\n",
       "      <td>3261</td>\n",
       "      <td>51</td>\n",
       "      <td>1470</td>\n",
       "      <td>26</td>\n",
       "      <td>342</td>\n",
       "      <td>1804</td>\n",
       "      <td>...</td>\n",
       "      <td>0</td>\n",
       "      <td>0</td>\n",
       "      <td>0</td>\n",
       "      <td>0</td>\n",
       "      <td>0</td>\n",
       "      <td>0</td>\n",
       "      <td>0</td>\n",
       "      <td>0</td>\n",
       "      <td>0</td>\n",
       "      <td>0</td>\n",
       "    </tr>\n",
       "  </tbody>\n",
       "</table>\n",
       "<p>5 rows × 5457 columns</p>\n",
       "</div>"
      ],
      "text/plain": [
       "Patient  0     1     2     3     4     5     6     7     8     9     ...  \\\n",
       "A3       4988  5803  3793    64    15   100  2119    12   453  1266  ...   \n",
       "A5       5060  5612  2795  1385    20    29  1230    24   691  1682  ...   \n",
       "A6       2905  4109  1355   725   723    11  1322     1  2278    43  ...   \n",
       "A9       5745  1432  5558  1553   620  1320  2675    44   107  1726  ...   \n",
       "A31      4822  2652  5383    40  3261    51  1470    26   342  1804  ...   \n",
       "\n",
       "Patient  5447  5448  5449  5450  5451  5452  5453  5454  5455  5456  \n",
       "A3          0     0     0     0     0     0     0     0     0     0  \n",
       "A5          0     0     0     0     0     0     0     0     0     0  \n",
       "A6          0     0     0     0     0     0     0     0     0     0  \n",
       "A9          0     0     0     0     0     0     0     0     1     0  \n",
       "A31         0     0     0     0     0     0     0     0     0     0  \n",
       "\n",
       "[5 rows x 5457 columns]"
      ]
     },
     "execution_count": 6,
     "metadata": {},
     "output_type": "execute_result"
    }
   ],
   "source": [
    "data = data.drop( 'Taxonomy', axis = 1 ).T.rename_axis( 'Patient', axis = 1 )\n",
    "if Flags.KEEP_TAXONOMY:\n",
    "    data.columns = pd.read_csv( '../data/data_1.csv' )[ 'Taxonomy' ]\n",
    "if Flags.OMIT_ABSENT:\n",
    "    data.drop( columns = data.columns[ data.sum() == 0 ], inplace = True )\n",
    "data.head()"
   ]
  },
  {
   "cell_type": "code",
   "execution_count": 7,
   "metadata": {},
   "outputs": [
    {
     "name": "stdout",
     "output_type": "stream",
     "text": [
      "[0 0 0 0 0 0 0 0 0 0 0 0 0 0 0 0 0 0 0 0 0 0 0 0 0 0 0 0 0 0 1 1 1 1 1 1 1\n",
      " 1 1 1 1 1 1 1 1 1 1 1 1 1 1 1 1 1 1 1 1 1 1 1]\n"
     ]
    }
   ],
   "source": [
    "def define_binary_target():\n",
    "    target = data.index.to_list()\n",
    "    Util.binary_target = np.array( [ 0 if t.startswith( 'A' ) else 1 for t in target ] )\n",
    "    Util.binary_target\n",
    "\n",
    "define_binary_target()\n",
    "print( Util.binary_target )"
   ]
  },
  {
   "cell_type": "code",
   "execution_count": 8,
   "metadata": {},
   "outputs": [],
   "source": [
    "def most_correlated_taxonomy( width ):\n",
    "    x = pd.concat( [ data[:10], data[30:40] ] )\n",
    "    x = x.iloc[:, ::20]\n",
    "    corrm = x.corr()\n",
    "    for i in corrm:\n",
    "        sorted = corrm[i].sort_values( ascending = False, key = lambda x: abs(x) )\n",
    "        print( i )\n",
    "        print( { sorted.index[j]: sorted[j].item() for j in range( 1, width+1 ) } )\n",
    "        print()\n",
    "\n",
    "if Flags.KEEP_TAXONOMY:\n",
    "    most_correlated_taxonomy( 2 )"
   ]
  },
  {
   "cell_type": "code",
   "execution_count": 9,
   "metadata": {},
   "outputs": [],
   "source": [
    "def draw_boxplot():\n",
    "    plt.figure( figsize = ( 150, 10 ) )\n",
    "    plt.boxplot( data.iloc[ :, :100 ] )\n",
    "    if Flags.SAVE_PLOTS:\n",
    "        plt.savefig( \"../output/boxplot.png\", bbox_inches = 'tight', dpi = 100 )\n",
    "\n",
    "if Flags.DRAW_PLOTS:\n",
    "    draw_boxplot()"
   ]
  },
  {
   "cell_type": "code",
   "execution_count": 10,
   "metadata": {},
   "outputs": [],
   "source": [
    "def draw_heatmaps( samples: int, size: int, filter: float ):\n",
    "    data_subset = data.sample( axis = 1, n = samples )\n",
    "    a_group = data_subset[:30]\n",
    "    b_group = data_subset[30:]\n",
    "    a_corr = a_group.corr()\n",
    "    a_filtered_corr = a_corr[ a_corr.abs() >= filter ]\n",
    "    b_corr = b_group.corr()\n",
    "    b_filtered_corr = b_corr[ b_corr.abs() >= filter ]\n",
    "\n",
    "    plt.figure( figsize = ( size, size ) )\n",
    "    sns.heatmap( a_filtered_corr, fmt = \".2f\", annot = True, cmap = 'coolwarm', square = True, linewidths = 0.5 )\n",
    "    plt.title( f'A group filtered abs(corr) >= { filter }, { samples } random' )\n",
    "    if Flags.SAVE_PLOTS:\n",
    "        plt.savefig( \"../output/a_filtered.png\", bbox_inches = 'tight', dpi = 100 )\n",
    "    plt.show()\n",
    "\n",
    "    plt.figure( figsize = ( size, size ) )\n",
    "    sns.heatmap( b_filtered_corr, fmt = \".2f\", annot = True, cmap = 'coolwarm', square = True, linewidths = 0.5 )\n",
    "    plt.title( f'B group filtered abs(corr) >= { filter }, { samples } random' )\n",
    "    if Flags.SAVE_PLOTS:\n",
    "        plt.savefig( \"../output/b_filtered.png\", bbox_inches = 'tight', dpi = 100 )\n",
    "    plt.show()\n",
    "\n",
    "    plt.figure( figsize = ( size, size ) )\n",
    "    sns.heatmap( a_filtered_corr - b_filtered_corr, fmt = \".2f\", annot = True, cmap = 'coolwarm', square = True, linewidths = 0.5 )\n",
    "    plt.title( f'Correlation difference: A - B' )\n",
    "    if Flags.SAVE_PLOTS:\n",
    "        plt.savefig( \"../output/corr_diff.png\", bbox_inches = 'tight', dpi = 100 )\n",
    "    plt.show()\n",
    "\n",
    "if Flags.DRAW_PLOTS:\n",
    "    draw_heatmaps( 5, 5, 0.2 )"
   ]
  },
  {
   "cell_type": "markdown",
   "metadata": {},
   "source": [
    "### Model Classification"
   ]
  },
  {
   "cell_type": "code",
   "execution_count": 11,
   "metadata": {},
   "outputs": [
    {
     "name": "stdout",
     "output_type": "stream",
     "text": [
      "25\n",
      "(12, 5457)\n",
      "[(338, np.float64(0.017338721222504586)), (157, np.float64(0.017096823316317837)), (349, np.float64(0.014424373146452842)), (377, np.float64(0.013656671839795693)), (379, np.float64(0.013472991204844704))]\n",
      "Index([338, 157, 349, 377, 379], dtype='int64', name='Patient')\n"
     ]
    }
   ],
   "source": [
    "def find_most_important_features( print_n: int ):\n",
    "    disease_train, disease_test, disease_y_train, disease_y_test = train_test_split( data, Util.binary_target, test_size = 0.2, shuffle = True, random_state = 0 )   \n",
    "    print( disease_y_train.sum() )\n",
    "    print( disease_test.shape )\n",
    "\n",
    "    random_forest = RandomForestClassifier( n_estimators = 200, criterion = 'gini', random_state = Flags.SEED, max_features = 'sqrt' )\n",
    "    random_forest.fit( disease_train, disease_y_train )\n",
    "\n",
    "    most_important = sorted( list( enumerate( random_forest.feature_importances_ ) ), key = lambda k: -k[1] )\n",
    "    print( most_important[:print_n] )\n",
    "    print( data.columns[ [ k[0] for k in most_important[:print_n] ] ] )\n",
    "\n",
    "find_most_important_features( 5 )"
   ]
  },
  {
   "cell_type": "code",
   "execution_count": 12,
   "metadata": {},
   "outputs": [],
   "source": [
    "Util.kfold = StratifiedKFold( n_splits = 10, shuffle = True, random_state = Flags.SEED )\n",
    "Util.folds = enumerate( Util.kfold.split( data, Util.binary_target ) )"
   ]
  },
  {
   "cell_type": "code",
   "execution_count": 13,
   "metadata": {},
   "outputs": [],
   "source": [
    "def run_classifier( data, target, model, name, kfold, folds ):\n",
    "    roc_auc_scores = []\n",
    "    folds = enumerate( kfold.split( data, target ) )\n",
    "    for fold, ( train, test ) in folds:\n",
    "        x_train, y_train = data.iloc[train], target[train]\n",
    "        x_test, y_test = data.iloc[test], target[test]\n",
    "\n",
    "        model.fit( x_train, y_train )\n",
    "        y_pred = model.predict( x_test )\n",
    "\n",
    "        roc_auc = roc_auc_score( y_test, y_pred )\n",
    "        roc_auc_scores.append( roc_auc )\n",
    "\n",
    "        if Flags.PRINT_FOLDS:\n",
    "            print( f'Fold {fold}:\\n{x_train.shape} {x_test.shape}\\nROC AUC: {roc_auc:.2f}\\n' )\n",
    "\n",
    "    roc_auc_scores = np.array( roc_auc_scores )\n",
    "    print( f'[{name}] min: %.2f, max: %.2f, avg %.2f' % ( roc_auc_scores.min(), roc_auc_scores.max(), roc_auc_scores.mean() ) )"
   ]
  },
  {
   "cell_type": "code",
   "execution_count": 14,
   "metadata": {},
   "outputs": [
    {
     "name": "stdout",
     "output_type": "stream",
     "text": [
      "[Random Forest] min: 0.50, max: 1.00, avg 0.83\n"
     ]
    }
   ],
   "source": [
    "run_classifier( data, Util.binary_target, RandomForestClassifier( n_estimators = 200, criterion = 'gini', random_state = Flags.SEED, max_features = 'sqrt' ), 'Random Forest', Util.kfold, Util.folds )"
   ]
  },
  {
   "cell_type": "code",
   "execution_count": 15,
   "metadata": {},
   "outputs": [
    {
     "name": "stdout",
     "output_type": "stream",
     "text": [
      "[XGBClassifier] min: 0.50, max: 1.00, avg 0.90\n"
     ]
    }
   ],
   "source": [
    "if Flags.KEEP_TAXONOMY:\n",
    "    print( 'XGBClassifier is not compatible with Taxonomy strings. Please set KEEP_TAXONOMY to false.' )\n",
    "else:\n",
    "    run_classifier( data, Util.binary_target, XGBClassifier( random_state = Flags.SEED, n_jobs = 4 ), \"XGBClassifier\", Util.kfold, Util.folds )"
   ]
  },
  {
   "cell_type": "code",
   "execution_count": 16,
   "metadata": {},
   "outputs": [
    {
     "name": "stdout",
     "output_type": "stream",
     "text": [
      "[LDA] min: 0.50, max: 1.00, avg 0.87\n"
     ]
    }
   ],
   "source": [
    "run_classifier( data, Util.binary_target, LinearDiscriminantAnalysis(), \"LDA\", Util.kfold, Util.folds )"
   ]
  },
  {
   "cell_type": "markdown",
   "metadata": {},
   "source": [
    "### Reduce Dimensionality"
   ]
  },
  {
   "cell_type": "code",
   "execution_count": 112,
   "metadata": {},
   "outputs": [
    {
     "data": {
      "text/html": [
       "<div>\n",
       "<style scoped>\n",
       "    .dataframe tbody tr th:only-of-type {\n",
       "        vertical-align: middle;\n",
       "    }\n",
       "\n",
       "    .dataframe tbody tr th {\n",
       "        vertical-align: top;\n",
       "    }\n",
       "\n",
       "    .dataframe thead th {\n",
       "        text-align: right;\n",
       "    }\n",
       "</style>\n",
       "<table border=\"1\" class=\"dataframe\">\n",
       "  <thead>\n",
       "    <tr style=\"text-align: right;\">\n",
       "      <th></th>\n",
       "      <th>0</th>\n",
       "      <th>1</th>\n",
       "      <th>2</th>\n",
       "      <th>3</th>\n",
       "      <th>4</th>\n",
       "    </tr>\n",
       "  </thead>\n",
       "  <tbody>\n",
       "    <tr>\n",
       "      <th>0</th>\n",
       "      <td>-1966.416167</td>\n",
       "      <td>1644.254524</td>\n",
       "      <td>-338.803709</td>\n",
       "      <td>-1676.839289</td>\n",
       "      <td>368.094856</td>\n",
       "    </tr>\n",
       "    <tr>\n",
       "      <th>1</th>\n",
       "      <td>-1005.299304</td>\n",
       "      <td>887.174426</td>\n",
       "      <td>189.480766</td>\n",
       "      <td>-1605.801733</td>\n",
       "      <td>772.563941</td>\n",
       "    </tr>\n",
       "    <tr>\n",
       "      <th>2</th>\n",
       "      <td>-4122.225991</td>\n",
       "      <td>-731.624149</td>\n",
       "      <td>1149.100052</td>\n",
       "      <td>-213.958291</td>\n",
       "      <td>-31.256809</td>\n",
       "    </tr>\n",
       "    <tr>\n",
       "      <th>3</th>\n",
       "      <td>4691.930969</td>\n",
       "      <td>-176.299502</td>\n",
       "      <td>-365.763105</td>\n",
       "      <td>-200.030581</td>\n",
       "      <td>-352.969219</td>\n",
       "    </tr>\n",
       "    <tr>\n",
       "      <th>4</th>\n",
       "      <td>1221.806830</td>\n",
       "      <td>-455.702035</td>\n",
       "      <td>1290.161286</td>\n",
       "      <td>1212.948981</td>\n",
       "      <td>1464.547986</td>\n",
       "    </tr>\n",
       "  </tbody>\n",
       "</table>\n",
       "</div>"
      ],
      "text/plain": [
       "             0            1            2            3            4\n",
       "0 -1966.416167  1644.254524  -338.803709 -1676.839289   368.094856\n",
       "1 -1005.299304   887.174426   189.480766 -1605.801733   772.563941\n",
       "2 -4122.225991  -731.624149  1149.100052  -213.958291   -31.256809\n",
       "3  4691.930969  -176.299502  -365.763105  -200.030581  -352.969219\n",
       "4  1221.806830  -455.702035  1290.161286  1212.948981  1464.547986"
      ]
     },
     "execution_count": 112,
     "metadata": {},
     "output_type": "execute_result"
    },
    {
     "data": {
      "image/png": "[encoded data removed]",
      "text/plain": [
       "<Figure size 640x480 with 1 Axes>"
      ]
     },
     "metadata": {},
     "output_type": "display_data"
    }
   ],
   "source": [
    "pca = PCA( n_components = 5 )\n",
    "pca.fit( data )\n",
    "reduced_data = pca.transform( data )\n",
    "reduced_data_pd = pd.DataFrame( reduced_data )\n",
    "plt.plot( [str(i+1) for i in range(5)], pca.explained_variance_ratio_ )\n",
    "reduced_data_pd.head()"
   ]
  },
  {
   "cell_type": "code",
   "execution_count": 118,
   "metadata": {},
   "outputs": [
    {
     "name": "stdout",
     "output_type": "stream",
     "text": [
      "[PCA + Random Forest] min: 0.33, max: 1.00, avg 0.63\n"
     ]
    }
   ],
   "source": [
    "run_classifier( reduced_data_pd, Util.binary_target, RandomForestClassifier( n_estimators = 200, criterion = 'gini', random_state = Flags.SEED, max_features = 'sqrt' ), 'PCA + Random Forest', Util.kfold, Util.folds )"
   ]
  },
  {
   "cell_type": "code",
   "execution_count": 119,
   "metadata": {},
   "outputs": [
    {
     "name": "stdout",
     "output_type": "stream",
     "text": [
      "[PCA + XGBClassifier] min: 0.33, max: 1.00, avg 0.62\n"
     ]
    }
   ],
   "source": [
    "if Flags.KEEP_TAXONOMY:\n",
    "    print( 'XGBClassifier is not compatible with Taxonomy strings. Please set KEEP_TAXONOMY to false.' )\n",
    "else:\n",
    "    run_classifier( reduced_data_pd, Util.binary_target, XGBClassifier( random_state = Flags.SEED, n_jobs = 4 ), \"PCA + XGBClassifier\", Util.kfold, Util.folds )"
   ]
  },
  {
   "cell_type": "code",
   "execution_count": 120,
   "metadata": {},
   "outputs": [
    {
     "name": "stdout",
     "output_type": "stream",
     "text": [
      "[PCA + LDA] min: 0.50, max: 1.00, avg 0.70\n"
     ]
    }
   ],
   "source": [
    "run_classifier( reduced_data_pd, Util.binary_target, LinearDiscriminantAnalysis(), \"PCA + LDA\", Util.kfold, Util.folds )"
   ]
  }
 ],
 "metadata": {
  "kernelspec": {
   "display_name": "Python 3 (ipykernel)",
   "language": "python",
   "name": "python3"
  },
  "language_info": {
   "codemirror_mode": {
    "name": "ipython",
    "version": 3
   },
   "file_extension": ".py",
   "mimetype": "text/x-python",
   "name": "python",
   "nbconvert_exporter": "python",
   "pygments_lexer": "ipython3",
   "version": "3.12.1"
  }
 },
 "nbformat": 4,
 "nbformat_minor": 2
}
