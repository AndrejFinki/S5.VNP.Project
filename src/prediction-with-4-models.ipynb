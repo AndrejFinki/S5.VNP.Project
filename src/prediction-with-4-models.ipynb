{
 "cells": [
  {
   "cell_type": "code",
   "execution_count": 1,
   "metadata": {
    "_cell_guid": "b1076dfc-b9ad-4769-8c92-a6c4dae69d19",
    "_kg_hide-input": true,
    "_kg_hide-output": true,
    "_uuid": "8f2839f25d086af736a60e9eeb907d3b93b6e0e5",
    "execution": {
     "iopub.execute_input": "2022-05-25T12:14:20.548058Z",
     "iopub.status.busy": "2022-05-25T12:14:20.547067Z",
     "iopub.status.idle": "2022-05-25T12:14:20.563896Z",
     "shell.execute_reply": "2022-05-25T12:14:20.564554Z",
     "shell.execute_reply.started": "2022-05-24T15:42:00.123211Z"
    },
    "papermill": {
     "duration": 0.043253,
     "end_time": "2022-05-25T12:14:20.564902",
     "exception": false,
     "start_time": "2022-05-25T12:14:20.521649",
     "status": "completed"
    },
    "tags": []
   },
   "outputs": [
    {
     "name": "stdout",
     "output_type": "stream",
     "text": [
      "/kaggle/input/human-gut-microbiome-with-asd/GSE113690_Autism_16S_rRNA_OTU_assignment_and_abundance.csv\n",
      "/kaggle/input/human-gut-microbiome-with-asd/ASD meta abundance.csv\n"
     ]
    }
   ],
   "source": [
    "# This Python 3 environment comes with many helpful analytics libraries installed\n",
    "# It is defined by the kaggle/python Docker image: https://github.com/kaggle/docker-python\n",
    "# For example, here's several helpful packages to load\n",
    "\n",
    "import numpy as np # linear algebra\n",
    "import pandas as pd # data processing, CSV file I/O (e.g. pd.read_csv)\n",
    "\n",
    "# Input data files are available in the read-only \"../input/\" directory\n",
    "# For example, running this (by clicking run or pressing Shift+Enter) will list all files under the input directory\n",
    "\n",
    "import os\n",
    "for dirname, _, filenames in os.walk('/kaggle/input'):\n",
    "    for filename in filenames:\n",
    "        print(os.path.join(dirname, filename))\n",
    "\n",
    "# You can write up to 20GB to the current directory (/kaggle/working/) that gets preserved as output when you create a version using \"Save & Run All\" \n",
    "# You can also write temporary files to /kaggle/temp/, but they won't be saved outside of the current session"
   ]
  },
  {
   "cell_type": "markdown",
   "metadata": {
    "papermill": {
     "duration": 0.020818,
     "end_time": "2022-05-25T12:14:20.606802",
     "exception": false,
     "start_time": "2022-05-25T12:14:20.585984",
     "status": "completed"
    },
    "tags": []
   },
   "source": [
    "The dataset is from the research paper by Zhou Dan et al. published on April 21st of 2020 - [Altered gut microbial profile is associated with abnormal metabolism activity of Autism Spectrum Disorder](https://www.tandfonline.com/doi/full/10.1080/19490976.2020.1747329)"
   ]
  },
  {
   "cell_type": "code",
   "execution_count": 2,
   "metadata": {
    "_kg_hide-input": true,
    "execution": {
     "iopub.execute_input": "2022-05-25T12:14:20.660884Z",
     "iopub.status.busy": "2022-05-25T12:14:20.660170Z",
     "iopub.status.idle": "2022-05-25T12:14:22.272119Z",
     "shell.execute_reply": "2022-05-25T12:14:22.272632Z",
     "shell.execute_reply.started": "2022-05-24T15:42:02.82056Z"
    },
    "papermill": {
     "duration": 1.64507,
     "end_time": "2022-05-25T12:14:22.272827",
     "exception": false,
     "start_time": "2022-05-25T12:14:20.627757",
     "status": "completed"
    },
    "tags": []
   },
   "outputs": [],
   "source": [
    "import warnings\n",
    "from sklearn.model_selection import StratifiedKFold\n",
    "from sklearn.ensemble import RandomForestClassifier\n",
    "from sklearn.linear_model import LogisticRegression\n",
    "from sklearn.neural_network import MLPClassifier\n",
    "from sklearn.model_selection import train_test_split\n",
    "from sklearn.model_selection import GridSearchCV\n",
    "from sklearn import preprocessing\n",
    "from sklearn.preprocessing import StandardScaler\n",
    "from sklearn.metrics import RocCurveDisplay # to visualize prediction performance (ROC curve)\n",
    "from sklearn.exceptions import ConvergenceWarning\n",
    "import matplotlib.pyplot as plt\n",
    "from sklearn import metrics\n",
    "from sklearn.metrics import plot_confusion_matrix\n",
    "# from sklearn.preprocessing import StandardScaler\n",
    "import sklearn\n",
    "from sklearn.metrics import f1_score, roc_auc_score, confusion_matrix, precision_recall_curve, auc, roc_curve, recall_score, precision_score\n",
    "from xgboost import XGBClassifier\n",
    "\n",
    "# some hyper parameters\n",
    "SEED = 123\n",
    "test_train_split_SEED = 123\n",
    "# FOLDS = 10\n",
    "show_fold_stats = True\n",
    "VERBOSE = 0\n",
    "FOLDS = 5\n",
    "\n",
    "min_max_scaler = preprocessing.MinMaxScaler()\n",
    "quantile_transformer = preprocessing.QuantileTransformer(random_state=SEED)\n",
    "MLP_param_grid = [\n",
    "        {\n",
    "            'activation' : ['identity', 'logistic', 'tanh', 'relu'],\n",
    "            'solver' : ['lbfgs', 'sgd', 'adam'],\n",
    "            'hidden_layer_sizes': [\n",
    "             (5,),(10,),(15,),(20,),(25,),(30,),(40,),(50,),(100,)\n",
    "             ]\n",
    "        }\n",
    "       ]"
   ]
  },
  {
   "cell_type": "markdown",
   "metadata": {
    "papermill": {
     "duration": 0.020294,
     "end_time": "2022-05-25T12:14:22.314331",
     "exception": false,
     "start_time": "2022-05-25T12:14:22.294037",
     "status": "completed"
    },
    "tags": []
   },
   "source": [
    "From the Abstract:<br>\n",
    "> Autism Spectrum Disorder (ASD) is a severe neurodevelopmental disorder. To enhance the understanding of the gut microbiota structure in ASD children at different ages as well as the relationship between gut microbiota and fecal metabolites, we first used the 16S rRNA sequencing to evaluate the gut microbial population in a cohort of 143 children aged 2–13 years old. We found that the α-diversity of ASD group showed no significant change with age, while the TD group showed increased α-diversity with age, which indicates that the compositional development of the gut microbiota in ASD varies at different ages in ways that are not consistent with TD group. Recent studies have shown that chronic constipation is one of the most commonly obvious gastrointestinal (GI) symptoms along with ASD core symptoms. To further investigate the potential interaction effects between ASD and GI symptoms, the 30 C-ASD and their aged-matched TD were picked out to perform metagenomics analysis. We observed that C-ASD group displayed decreased diversity, depletion of species of Sutterella, Prevotella, and Bacteroides as well as dysregulation of associated metabolism activities, which may involve in the pathogenesis of C-ASD. Consistent with metagenomic analysis, liquid chromatography-mass spectrometry (LC/MS) revealed some of the differential metabolites between C-ASD and TD group were involved in the metabolic network of neurotransmitters including serotonin, dopamine, histidine, and GABA. Furthermore, we found these differences in metabolites were associated with altered abundance of specific bacteria. The study suggested possible future modalities for ASD intervention through targeting the specific bacteria associated with neurotransmitter metabolism."
   ]
  },
  {
   "cell_type": "code",
   "execution_count": 3,
   "metadata": {
    "execution": {
     "iopub.execute_input": "2022-05-25T12:14:22.361447Z",
     "iopub.status.busy": "2022-05-25T12:14:22.360710Z",
     "iopub.status.idle": "2022-05-25T12:14:22.491031Z",
     "shell.execute_reply": "2022-05-25T12:14:22.491686Z",
     "shell.execute_reply.started": "2022-05-24T15:42:06.894281Z"
    },
    "papermill": {
     "duration": 0.157102,
     "end_time": "2022-05-25T12:14:22.491917",
     "exception": false,
     "start_time": "2022-05-25T12:14:22.334815",
     "status": "completed"
    },
    "tags": []
   },
   "outputs": [],
   "source": [
    "pd_abundance = pd.read_csv('../data/data_2.csv')\n",
    "pd_meta_abundance = pd.read_csv('../data/data_1.csv')"
   ]
  },
  {
   "cell_type": "code",
   "execution_count": 4,
   "metadata": {
    "execution": {
     "iopub.execute_input": "2022-05-25T12:14:22.537120Z",
     "iopub.status.busy": "2022-05-25T12:14:22.535984Z",
     "iopub.status.idle": "2022-05-25T12:14:22.586001Z",
     "shell.execute_reply": "2022-05-25T12:14:22.586761Z",
     "shell.execute_reply.started": "2022-05-24T15:42:11.398112Z"
    },
    "papermill": {
     "duration": 0.074628,
     "end_time": "2022-05-25T12:14:22.586962",
     "exception": false,
     "start_time": "2022-05-25T12:14:22.512334",
     "status": "completed"
    },
    "tags": []
   },
   "outputs": [],
   "source": [
    "taxa = pd_abundance[['OTU', 'taxonomy']].set_index('OTU')\n",
    "pd_abundance_T = pd_abundance.drop('taxonomy', axis=1).set_index('OTU').transpose()\n",
    "\n",
    "target = pd_abundance_T.index.to_list()\n",
    "binary_target = np.array([0 if t.startswith('A') else 1 for t in target ])\n",
    "\n",
    "total_species = pd_abundance_T.sum(axis = 1)\n",
    "abs_abundance = 31757\n",
    "pd_rel_abundance = pd_abundance_T / abs_abundance \n"
   ]
  },
  {
   "cell_type": "code",
   "execution_count": 5,
   "metadata": {
    "execution": {
     "iopub.execute_input": "2022-05-25T12:14:22.633396Z",
     "iopub.status.busy": "2022-05-25T12:14:22.632765Z",
     "iopub.status.idle": "2022-05-25T12:14:22.677459Z",
     "shell.execute_reply": "2022-05-25T12:14:22.676813Z",
     "shell.execute_reply.started": "2022-05-24T15:42:14.420264Z"
    },
    "papermill": {
     "duration": 0.068457,
     "end_time": "2022-05-25T12:14:22.677614",
     "exception": false,
     "start_time": "2022-05-25T12:14:22.609157",
     "status": "completed"
    },
    "tags": []
   },
   "outputs": [
    {
     "name": "stdout",
     "output_type": "stream",
     "text": [
      "first 5 rows:\n"
     ]
    },
    {
     "data": {
      "text/html": [
       "<div>\n",
       "<style scoped>\n",
       "    .dataframe tbody tr th:only-of-type {\n",
       "        vertical-align: middle;\n",
       "    }\n",
       "\n",
       "    .dataframe tbody tr th {\n",
       "        vertical-align: top;\n",
       "    }\n",
       "\n",
       "    .dataframe thead th {\n",
       "        text-align: right;\n",
       "    }\n",
       "</style>\n",
       "<table border=\"1\" class=\"dataframe\">\n",
       "  <thead>\n",
       "    <tr style=\"text-align: right;\">\n",
       "      <th>OTU</th>\n",
       "      <th>OTU1</th>\n",
       "      <th>OTU2</th>\n",
       "      <th>OTU3</th>\n",
       "      <th>OTU4</th>\n",
       "      <th>OTU5</th>\n",
       "      <th>OTU6</th>\n",
       "      <th>OTU7</th>\n",
       "      <th>OTU8</th>\n",
       "      <th>OTU9</th>\n",
       "      <th>OTU10</th>\n",
       "      <th>...</th>\n",
       "      <th>OTU1329</th>\n",
       "      <th>OTU1330</th>\n",
       "      <th>OTU1331</th>\n",
       "      <th>OTU1332</th>\n",
       "      <th>OTU1333</th>\n",
       "      <th>OTU1334</th>\n",
       "      <th>OTU1335</th>\n",
       "      <th>OTU1336</th>\n",
       "      <th>OTU1337</th>\n",
       "      <th>OTU1338</th>\n",
       "    </tr>\n",
       "  </thead>\n",
       "  <tbody>\n",
       "    <tr>\n",
       "      <th>A1</th>\n",
       "      <td>0.0</td>\n",
       "      <td>0.0</td>\n",
       "      <td>0.0</td>\n",
       "      <td>0.0</td>\n",
       "      <td>0.000000</td>\n",
       "      <td>0.000031</td>\n",
       "      <td>0.000000</td>\n",
       "      <td>0.000000</td>\n",
       "      <td>0.001574</td>\n",
       "      <td>0.000000</td>\n",
       "      <td>...</td>\n",
       "      <td>0.000031</td>\n",
       "      <td>0.000000</td>\n",
       "      <td>0.000031</td>\n",
       "      <td>0.0</td>\n",
       "      <td>0.0</td>\n",
       "      <td>0.0</td>\n",
       "      <td>0.0</td>\n",
       "      <td>0.0</td>\n",
       "      <td>0.0</td>\n",
       "      <td>0.0</td>\n",
       "    </tr>\n",
       "    <tr>\n",
       "      <th>A10</th>\n",
       "      <td>0.0</td>\n",
       "      <td>0.0</td>\n",
       "      <td>0.0</td>\n",
       "      <td>0.0</td>\n",
       "      <td>0.000000</td>\n",
       "      <td>0.000000</td>\n",
       "      <td>0.000000</td>\n",
       "      <td>0.000000</td>\n",
       "      <td>0.000315</td>\n",
       "      <td>0.000063</td>\n",
       "      <td>...</td>\n",
       "      <td>0.000157</td>\n",
       "      <td>0.000000</td>\n",
       "      <td>0.000000</td>\n",
       "      <td>0.0</td>\n",
       "      <td>0.0</td>\n",
       "      <td>0.0</td>\n",
       "      <td>0.0</td>\n",
       "      <td>0.0</td>\n",
       "      <td>0.0</td>\n",
       "      <td>0.0</td>\n",
       "    </tr>\n",
       "    <tr>\n",
       "      <th>A100</th>\n",
       "      <td>0.0</td>\n",
       "      <td>0.0</td>\n",
       "      <td>0.0</td>\n",
       "      <td>0.0</td>\n",
       "      <td>0.000031</td>\n",
       "      <td>0.000000</td>\n",
       "      <td>0.000000</td>\n",
       "      <td>0.015272</td>\n",
       "      <td>0.000409</td>\n",
       "      <td>0.000000</td>\n",
       "      <td>...</td>\n",
       "      <td>0.000000</td>\n",
       "      <td>0.000000</td>\n",
       "      <td>0.000000</td>\n",
       "      <td>0.0</td>\n",
       "      <td>0.0</td>\n",
       "      <td>0.0</td>\n",
       "      <td>0.0</td>\n",
       "      <td>0.0</td>\n",
       "      <td>0.0</td>\n",
       "      <td>0.0</td>\n",
       "    </tr>\n",
       "    <tr>\n",
       "      <th>A101</th>\n",
       "      <td>0.0</td>\n",
       "      <td>0.0</td>\n",
       "      <td>0.0</td>\n",
       "      <td>0.0</td>\n",
       "      <td>0.000000</td>\n",
       "      <td>0.000000</td>\n",
       "      <td>0.000031</td>\n",
       "      <td>0.004471</td>\n",
       "      <td>0.000535</td>\n",
       "      <td>0.000000</td>\n",
       "      <td>...</td>\n",
       "      <td>0.000000</td>\n",
       "      <td>0.000031</td>\n",
       "      <td>0.000000</td>\n",
       "      <td>0.0</td>\n",
       "      <td>0.0</td>\n",
       "      <td>0.0</td>\n",
       "      <td>0.0</td>\n",
       "      <td>0.0</td>\n",
       "      <td>0.0</td>\n",
       "      <td>0.0</td>\n",
       "    </tr>\n",
       "    <tr>\n",
       "      <th>A102</th>\n",
       "      <td>0.0</td>\n",
       "      <td>0.0</td>\n",
       "      <td>0.0</td>\n",
       "      <td>0.0</td>\n",
       "      <td>0.000000</td>\n",
       "      <td>0.000000</td>\n",
       "      <td>0.000000</td>\n",
       "      <td>0.000031</td>\n",
       "      <td>0.000283</td>\n",
       "      <td>0.000000</td>\n",
       "      <td>...</td>\n",
       "      <td>0.000031</td>\n",
       "      <td>0.000000</td>\n",
       "      <td>0.000000</td>\n",
       "      <td>0.0</td>\n",
       "      <td>0.0</td>\n",
       "      <td>0.0</td>\n",
       "      <td>0.0</td>\n",
       "      <td>0.0</td>\n",
       "      <td>0.0</td>\n",
       "      <td>0.0</td>\n",
       "    </tr>\n",
       "  </tbody>\n",
       "</table>\n",
       "<p>5 rows × 1322 columns</p>\n",
       "</div>"
      ],
      "text/plain": [
       "OTU   OTU1  OTU2  OTU3  OTU4      OTU5      OTU6      OTU7      OTU8  \\\n",
       "A1     0.0   0.0   0.0   0.0  0.000000  0.000031  0.000000  0.000000   \n",
       "A10    0.0   0.0   0.0   0.0  0.000000  0.000000  0.000000  0.000000   \n",
       "A100   0.0   0.0   0.0   0.0  0.000031  0.000000  0.000000  0.015272   \n",
       "A101   0.0   0.0   0.0   0.0  0.000000  0.000000  0.000031  0.004471   \n",
       "A102   0.0   0.0   0.0   0.0  0.000000  0.000000  0.000000  0.000031   \n",
       "\n",
       "OTU       OTU9     OTU10  ...   OTU1329   OTU1330   OTU1331  OTU1332  OTU1333  \\\n",
       "A1    0.001574  0.000000  ...  0.000031  0.000000  0.000031      0.0      0.0   \n",
       "A10   0.000315  0.000063  ...  0.000157  0.000000  0.000000      0.0      0.0   \n",
       "A100  0.000409  0.000000  ...  0.000000  0.000000  0.000000      0.0      0.0   \n",
       "A101  0.000535  0.000000  ...  0.000000  0.000031  0.000000      0.0      0.0   \n",
       "A102  0.000283  0.000000  ...  0.000031  0.000000  0.000000      0.0      0.0   \n",
       "\n",
       "OTU   OTU1334  OTU1335  OTU1336  OTU1337  OTU1338  \n",
       "A1        0.0      0.0      0.0      0.0      0.0  \n",
       "A10       0.0      0.0      0.0      0.0      0.0  \n",
       "A100      0.0      0.0      0.0      0.0      0.0  \n",
       "A101      0.0      0.0      0.0      0.0      0.0  \n",
       "A102      0.0      0.0      0.0      0.0      0.0  \n",
       "\n",
       "[5 rows x 1322 columns]"
      ]
     },
     "execution_count": 5,
     "metadata": {},
     "output_type": "execute_result"
    }
   ],
   "source": [
    "print(\"first 5 rows:\")\n",
    "# Print the first 5 rows of the data\n",
    "pd_rel_abundance.head()"
   ]
  },
  {
   "cell_type": "markdown",
   "metadata": {
    "papermill": {
     "duration": 0.021075,
     "end_time": "2022-05-25T12:14:22.720020",
     "exception": false,
     "start_time": "2022-05-25T12:14:22.698945",
     "status": "completed"
    },
    "tags": []
   },
   "source": [
    "First will try 16s rRNA using both RF and XGBoost"
   ]
  },
  {
   "cell_type": "code",
   "execution_count": 6,
   "metadata": {
    "execution": {
     "iopub.execute_input": "2022-05-25T12:14:22.773103Z",
     "iopub.status.busy": "2022-05-25T12:14:22.771964Z",
     "iopub.status.idle": "2022-05-25T12:14:22.775595Z",
     "shell.execute_reply": "2022-05-25T12:14:22.774951Z",
     "shell.execute_reply.started": "2022-05-24T15:42:17.578767Z"
    },
    "papermill": {
     "duration": 0.034433,
     "end_time": "2022-05-25T12:14:22.775748",
     "exception": false,
     "start_time": "2022-05-25T12:14:22.741315",
     "status": "completed"
    },
    "tags": []
   },
   "outputs": [],
   "source": [
    "# Lets put aside a small test set, so we can check performance of different classifiers against it\n",
    "disease_train, disease_test, disease_y_train, disease_y_test = train_test_split(pd_rel_abundance, binary_target, test_size = 0.2,  random_state = test_train_split_SEED , shuffle = True)   "
   ]
  },
  {
   "cell_type": "code",
   "execution_count": 7,
   "metadata": {
    "execution": {
     "iopub.execute_input": "2022-05-25T12:14:22.843319Z",
     "iopub.status.busy": "2022-05-25T12:14:22.835281Z",
     "iopub.status.idle": "2022-05-25T12:14:22.856168Z",
     "shell.execute_reply": "2022-05-25T12:14:22.856774Z",
     "shell.execute_reply.started": "2022-05-24T15:42:19.908649Z"
    },
    "papermill": {
     "duration": 0.059955,
     "end_time": "2022-05-25T12:14:22.856968",
     "exception": false,
     "start_time": "2022-05-25T12:14:22.797013",
     "status": "completed"
    },
    "tags": []
   },
   "outputs": [
    {
     "name": "stdout",
     "output_type": "stream",
     "text": [
      "first 5 rows:\n"
     ]
    },
    {
     "data": {
      "text/html": [
       "<div>\n",
       "<style scoped>\n",
       "    .dataframe tbody tr th:only-of-type {\n",
       "        vertical-align: middle;\n",
       "    }\n",
       "\n",
       "    .dataframe tbody tr th {\n",
       "        vertical-align: top;\n",
       "    }\n",
       "\n",
       "    .dataframe thead th {\n",
       "        text-align: right;\n",
       "    }\n",
       "</style>\n",
       "<table border=\"1\" class=\"dataframe\">\n",
       "  <thead>\n",
       "    <tr style=\"text-align: right;\">\n",
       "      <th>OTU</th>\n",
       "      <th>OTU1</th>\n",
       "      <th>OTU2</th>\n",
       "      <th>OTU3</th>\n",
       "      <th>OTU4</th>\n",
       "      <th>OTU5</th>\n",
       "      <th>OTU6</th>\n",
       "      <th>OTU7</th>\n",
       "      <th>OTU8</th>\n",
       "      <th>OTU9</th>\n",
       "      <th>OTU10</th>\n",
       "      <th>...</th>\n",
       "      <th>OTU1329</th>\n",
       "      <th>OTU1330</th>\n",
       "      <th>OTU1331</th>\n",
       "      <th>OTU1332</th>\n",
       "      <th>OTU1333</th>\n",
       "      <th>OTU1334</th>\n",
       "      <th>OTU1335</th>\n",
       "      <th>OTU1336</th>\n",
       "      <th>OTU1337</th>\n",
       "      <th>OTU1338</th>\n",
       "    </tr>\n",
       "  </thead>\n",
       "  <tbody>\n",
       "    <tr>\n",
       "      <th>A12</th>\n",
       "      <td>0.0</td>\n",
       "      <td>0.0</td>\n",
       "      <td>0.000031</td>\n",
       "      <td>0.000000</td>\n",
       "      <td>0.0</td>\n",
       "      <td>0.0</td>\n",
       "      <td>0.000031</td>\n",
       "      <td>0.000031</td>\n",
       "      <td>0.000472</td>\n",
       "      <td>0.0</td>\n",
       "      <td>...</td>\n",
       "      <td>0.000063</td>\n",
       "      <td>0.000000</td>\n",
       "      <td>0.000031</td>\n",
       "      <td>0.0</td>\n",
       "      <td>0.0</td>\n",
       "      <td>0.0</td>\n",
       "      <td>0.0</td>\n",
       "      <td>0.0</td>\n",
       "      <td>0.0</td>\n",
       "      <td>0.0</td>\n",
       "    </tr>\n",
       "    <tr>\n",
       "      <th>B108</th>\n",
       "      <td>0.0</td>\n",
       "      <td>0.0</td>\n",
       "      <td>0.000000</td>\n",
       "      <td>0.000000</td>\n",
       "      <td>0.0</td>\n",
       "      <td>0.0</td>\n",
       "      <td>0.000094</td>\n",
       "      <td>0.000000</td>\n",
       "      <td>0.000315</td>\n",
       "      <td>0.0</td>\n",
       "      <td>...</td>\n",
       "      <td>0.000000</td>\n",
       "      <td>0.000031</td>\n",
       "      <td>0.000000</td>\n",
       "      <td>0.0</td>\n",
       "      <td>0.0</td>\n",
       "      <td>0.0</td>\n",
       "      <td>0.0</td>\n",
       "      <td>0.0</td>\n",
       "      <td>0.0</td>\n",
       "      <td>0.0</td>\n",
       "    </tr>\n",
       "    <tr>\n",
       "      <th>A18</th>\n",
       "      <td>0.0</td>\n",
       "      <td>0.0</td>\n",
       "      <td>0.000031</td>\n",
       "      <td>0.000000</td>\n",
       "      <td>0.0</td>\n",
       "      <td>0.0</td>\n",
       "      <td>0.000031</td>\n",
       "      <td>0.000157</td>\n",
       "      <td>0.000441</td>\n",
       "      <td>0.0</td>\n",
       "      <td>...</td>\n",
       "      <td>0.000000</td>\n",
       "      <td>0.000000</td>\n",
       "      <td>0.000000</td>\n",
       "      <td>0.0</td>\n",
       "      <td>0.0</td>\n",
       "      <td>0.0</td>\n",
       "      <td>0.0</td>\n",
       "      <td>0.0</td>\n",
       "      <td>0.0</td>\n",
       "      <td>0.0</td>\n",
       "    </tr>\n",
       "    <tr>\n",
       "      <th>A28</th>\n",
       "      <td>0.0</td>\n",
       "      <td>0.0</td>\n",
       "      <td>0.000000</td>\n",
       "      <td>0.000000</td>\n",
       "      <td>0.0</td>\n",
       "      <td>0.0</td>\n",
       "      <td>0.000000</td>\n",
       "      <td>0.000031</td>\n",
       "      <td>0.000063</td>\n",
       "      <td>0.0</td>\n",
       "      <td>...</td>\n",
       "      <td>0.000000</td>\n",
       "      <td>0.000000</td>\n",
       "      <td>0.000000</td>\n",
       "      <td>0.0</td>\n",
       "      <td>0.0</td>\n",
       "      <td>0.0</td>\n",
       "      <td>0.0</td>\n",
       "      <td>0.0</td>\n",
       "      <td>0.0</td>\n",
       "      <td>0.0</td>\n",
       "    </tr>\n",
       "    <tr>\n",
       "      <th>A49</th>\n",
       "      <td>0.0</td>\n",
       "      <td>0.0</td>\n",
       "      <td>0.000000</td>\n",
       "      <td>0.000063</td>\n",
       "      <td>0.0</td>\n",
       "      <td>0.0</td>\n",
       "      <td>0.000031</td>\n",
       "      <td>0.000063</td>\n",
       "      <td>0.000472</td>\n",
       "      <td>0.0</td>\n",
       "      <td>...</td>\n",
       "      <td>0.000000</td>\n",
       "      <td>0.000000</td>\n",
       "      <td>0.000000</td>\n",
       "      <td>0.0</td>\n",
       "      <td>0.0</td>\n",
       "      <td>0.0</td>\n",
       "      <td>0.0</td>\n",
       "      <td>0.0</td>\n",
       "      <td>0.0</td>\n",
       "      <td>0.0</td>\n",
       "    </tr>\n",
       "  </tbody>\n",
       "</table>\n",
       "<p>5 rows × 1322 columns</p>\n",
       "</div>"
      ],
      "text/plain": [
       "OTU   OTU1  OTU2      OTU3      OTU4  OTU5  OTU6      OTU7      OTU8  \\\n",
       "A12    0.0   0.0  0.000031  0.000000   0.0   0.0  0.000031  0.000031   \n",
       "B108   0.0   0.0  0.000000  0.000000   0.0   0.0  0.000094  0.000000   \n",
       "A18    0.0   0.0  0.000031  0.000000   0.0   0.0  0.000031  0.000157   \n",
       "A28    0.0   0.0  0.000000  0.000000   0.0   0.0  0.000000  0.000031   \n",
       "A49    0.0   0.0  0.000000  0.000063   0.0   0.0  0.000031  0.000063   \n",
       "\n",
       "OTU       OTU9  OTU10  ...   OTU1329   OTU1330   OTU1331  OTU1332  OTU1333  \\\n",
       "A12   0.000472    0.0  ...  0.000063  0.000000  0.000031      0.0      0.0   \n",
       "B108  0.000315    0.0  ...  0.000000  0.000031  0.000000      0.0      0.0   \n",
       "A18   0.000441    0.0  ...  0.000000  0.000000  0.000000      0.0      0.0   \n",
       "A28   0.000063    0.0  ...  0.000000  0.000000  0.000000      0.0      0.0   \n",
       "A49   0.000472    0.0  ...  0.000000  0.000000  0.000000      0.0      0.0   \n",
       "\n",
       "OTU   OTU1334  OTU1335  OTU1336  OTU1337  OTU1338  \n",
       "A12       0.0      0.0      0.0      0.0      0.0  \n",
       "B108      0.0      0.0      0.0      0.0      0.0  \n",
       "A18       0.0      0.0      0.0      0.0      0.0  \n",
       "A28       0.0      0.0      0.0      0.0      0.0  \n",
       "A49       0.0      0.0      0.0      0.0      0.0  \n",
       "\n",
       "[5 rows x 1322 columns]"
      ]
     },
     "execution_count": 7,
     "metadata": {},
     "output_type": "execute_result"
    }
   ],
   "source": [
    "print(\"first 5 rows:\")\n",
    "# Print the first 5 rows of the data\n",
    "disease_train.head()\n"
   ]
  },
  {
   "cell_type": "code",
   "execution_count": 8,
   "metadata": {
    "execution": {
     "iopub.execute_input": "2022-05-25T12:14:22.907482Z",
     "iopub.status.busy": "2022-05-25T12:14:22.906724Z",
     "iopub.status.idle": "2022-05-25T12:14:22.911615Z",
     "shell.execute_reply": "2022-05-25T12:14:22.911073Z",
     "shell.execute_reply.started": "2022-05-24T15:42:22.926758Z"
    },
    "papermill": {
     "duration": 0.031981,
     "end_time": "2022-05-25T12:14:22.911755",
     "exception": false,
     "start_time": "2022-05-25T12:14:22.879774",
     "status": "completed"
    },
    "tags": []
   },
   "outputs": [
    {
     "name": "stdout",
     "output_type": "stream",
     "text": [
      "train data shape:\n"
     ]
    },
    {
     "data": {
      "text/plain": [
       "(203, 1322)"
      ]
     },
     "execution_count": 8,
     "metadata": {},
     "output_type": "execute_result"
    }
   ],
   "source": [
    "print(\"train data shape:\")\n",
    "disease_train.shape"
   ]
  },
  {
   "cell_type": "code",
   "execution_count": 9,
   "metadata": {
    "execution": {
     "iopub.execute_input": "2022-05-25T12:14:22.961549Z",
     "iopub.status.busy": "2022-05-25T12:14:22.960896Z",
     "iopub.status.idle": "2022-05-25T12:14:22.967380Z",
     "shell.execute_reply": "2022-05-25T12:14:22.968002Z",
     "shell.execute_reply.started": "2022-05-24T15:42:25.207976Z"
    },
    "papermill": {
     "duration": 0.033249,
     "end_time": "2022-05-25T12:14:22.968172",
     "exception": false,
     "start_time": "2022-05-25T12:14:22.934923",
     "status": "completed"
    },
    "tags": []
   },
   "outputs": [
    {
     "name": "stdout",
     "output_type": "stream",
     "text": [
      "test data shape:\n"
     ]
    },
    {
     "data": {
      "text/plain": [
       "(51, 1322)"
      ]
     },
     "execution_count": 9,
     "metadata": {},
     "output_type": "execute_result"
    }
   ],
   "source": [
    "print(\"test data shape:\")\n",
    "disease_test.shape"
   ]
  },
  {
   "cell_type": "code",
   "execution_count": 10,
   "metadata": {
    "execution": {
     "iopub.execute_input": "2022-05-25T12:14:23.020569Z",
     "iopub.status.busy": "2022-05-25T12:14:23.019837Z",
     "iopub.status.idle": "2022-05-25T12:16:07.350924Z",
     "shell.execute_reply": "2022-05-25T12:16:07.349913Z",
     "shell.execute_reply.started": "2022-05-24T15:42:27.89455Z"
    },
    "papermill": {
     "duration": 104.358839,
     "end_time": "2022-05-25T12:16:07.351164",
     "exception": false,
     "start_time": "2022-05-25T12:14:22.992325",
     "status": "completed"
    },
    "tags": []
   },
   "outputs": [
    {
     "name": "stdout",
     "output_type": "stream",
     "text": [
      "--------------------------------------------------------------------------------\n",
      "Fold : 1\n",
      "ROC AUC score for RandomForest model, validation set: 0.9240\n",
      "F1 : 0.8485, Recall : 0.8235 , Precision : 0.8750\n",
      "[[22  2]\n",
      " [ 3 14]]\n",
      "ROC AUC score for XGBoost model, validation set: 0.9387\n",
      "F1 : 0.9091, Recall : 0.8824 , Precision : 0.9375\n",
      "[[23  1]\n",
      " [ 2 15]]\n",
      "ROC AUC score for Logistic Regression model, validation set: 0.7304\n",
      "F1 : 0.0000, Recall : 0.0000 , Precision : 0.0000\n",
      "[[24  0]\n",
      " [17  0]]\n"
     ]
    },
    {
     "name": "stderr",
     "output_type": "stream",
     "text": [
      "/opt/conda/lib/python3.7/site-packages/sklearn/metrics/_classification.py:1221: UndefinedMetricWarning: Precision is ill-defined and being set to 0.0 due to no predicted samples. Use `zero_division` parameter to control this behavior.\n",
      "  _warn_prf(average, modifier, msg_start, len(result))\n"
     ]
    },
    {
     "name": "stdout",
     "output_type": "stream",
     "text": [
      "ROC AUC score for MLP model, validation set: 0.7941\n",
      "F1 : 0.6471, Recall : 0.6471 , Precision : 0.6471\n",
      "[[18  6]\n",
      " [ 6 11]]\n",
      "--------------------------------------------------------------------------------\n",
      "Fold : 2\n",
      "ROC AUC score for RandomForest model, validation set: 0.9130\n",
      "F1 : 0.8276, Recall : 0.7059 , Precision : 1.0000\n",
      "[[24  0]\n",
      " [ 5 12]]\n",
      "ROC AUC score for XGBoost model, validation set: 0.9534\n",
      "F1 : 0.8485, Recall : 0.8235 , Precision : 0.8750\n",
      "[[22  2]\n",
      " [ 3 14]]\n",
      "ROC AUC score for Logistic Regression model, validation set: 0.7132\n",
      "F1 : 0.0000, Recall : 0.0000 , Precision : 0.0000\n",
      "[[24  0]\n",
      " [17  0]]\n"
     ]
    },
    {
     "name": "stderr",
     "output_type": "stream",
     "text": [
      "/opt/conda/lib/python3.7/site-packages/sklearn/metrics/_classification.py:1221: UndefinedMetricWarning: Precision is ill-defined and being set to 0.0 due to no predicted samples. Use `zero_division` parameter to control this behavior.\n",
      "  _warn_prf(average, modifier, msg_start, len(result))\n"
     ]
    },
    {
     "name": "stdout",
     "output_type": "stream",
     "text": [
      "ROC AUC score for MLP model, validation set: 0.7917\n",
      "F1 : 0.6061, Recall : 0.5882 , Precision : 0.6250\n",
      "[[18  6]\n",
      " [ 7 10]]\n",
      "--------------------------------------------------------------------------------\n",
      "Fold : 3\n",
      "ROC AUC score for RandomForest model, validation set: 0.9681\n",
      "F1 : 0.8750, Recall : 0.8235 , Precision : 0.9333\n",
      "[[23  1]\n",
      " [ 3 14]]\n",
      "ROC AUC score for XGBoost model, validation set: 0.9730\n",
      "F1 : 0.8824, Recall : 0.8824 , Precision : 0.8824\n",
      "[[22  2]\n",
      " [ 2 15]]\n",
      "ROC AUC score for Logistic Regression model, validation set: 0.5956\n",
      "F1 : 0.0000, Recall : 0.0000 , Precision : 0.0000\n",
      "[[24  0]\n",
      " [17  0]]\n"
     ]
    },
    {
     "name": "stderr",
     "output_type": "stream",
     "text": [
      "/opt/conda/lib/python3.7/site-packages/sklearn/metrics/_classification.py:1221: UndefinedMetricWarning: Precision is ill-defined and being set to 0.0 due to no predicted samples. Use `zero_division` parameter to control this behavior.\n",
      "  _warn_prf(average, modifier, msg_start, len(result))\n"
     ]
    },
    {
     "name": "stdout",
     "output_type": "stream",
     "text": [
      "ROC AUC score for MLP model, validation set: 0.7328\n",
      "F1 : 0.5625, Recall : 0.5294 , Precision : 0.6000\n",
      "[[18  6]\n",
      " [ 8  9]]\n",
      "--------------------------------------------------------------------------------\n",
      "Fold : 4\n",
      "ROC AUC score for RandomForest model, validation set: 0.9766\n",
      "F1 : 0.9032, Recall : 0.8750 , Precision : 0.9333\n",
      "[[23  1]\n",
      " [ 2 14]]\n",
      "ROC AUC score for XGBoost model, validation set: 0.9505\n",
      "F1 : 0.8667, Recall : 0.8125 , Precision : 0.9286\n",
      "[[23  1]\n",
      " [ 3 13]]\n",
      "ROC AUC score for Logistic Regression model, validation set: 0.7734\n",
      "F1 : 0.0000, Recall : 0.0000 , Precision : 0.0000\n",
      "[[24  0]\n",
      " [16  0]]\n"
     ]
    },
    {
     "name": "stderr",
     "output_type": "stream",
     "text": [
      "/opt/conda/lib/python3.7/site-packages/sklearn/metrics/_classification.py:1221: UndefinedMetricWarning: Precision is ill-defined and being set to 0.0 due to no predicted samples. Use `zero_division` parameter to control this behavior.\n",
      "  _warn_prf(average, modifier, msg_start, len(result))\n"
     ]
    },
    {
     "name": "stdout",
     "output_type": "stream",
     "text": [
      "ROC AUC score for MLP model, validation set: 0.7604\n",
      "F1 : 0.6250, Recall : 0.6250 , Precision : 0.6250\n",
      "[[18  6]\n",
      " [ 6 10]]\n",
      "--------------------------------------------------------------------------------\n",
      "Fold : 5\n",
      "ROC AUC score for RandomForest model, validation set: 0.9923\n",
      "F1 : 0.9032, Recall : 0.8235 , Precision : 1.0000\n",
      "[[23  0]\n",
      " [ 3 14]]\n",
      "ROC AUC score for XGBoost model, validation set: 0.9744\n",
      "F1 : 0.8276, Recall : 0.7059 , Precision : 1.0000\n",
      "[[23  0]\n",
      " [ 5 12]]\n",
      "ROC AUC score for Logistic Regression model, validation set: 0.8747\n",
      "F1 : 0.0000, Recall : 0.0000 , Precision : 0.0000\n",
      "[[23  0]\n",
      " [17  0]]\n"
     ]
    },
    {
     "name": "stderr",
     "output_type": "stream",
     "text": [
      "/opt/conda/lib/python3.7/site-packages/sklearn/metrics/_classification.py:1221: UndefinedMetricWarning: Precision is ill-defined and being set to 0.0 due to no predicted samples. Use `zero_division` parameter to control this behavior.\n",
      "  _warn_prf(average, modifier, msg_start, len(result))\n"
     ]
    },
    {
     "name": "stdout",
     "output_type": "stream",
     "text": [
      "ROC AUC score for MLP model, validation set: 0.9130\n",
      "F1 : 0.8125, Recall : 0.7647 , Precision : 0.8667\n",
      "[[21  2]\n",
      " [ 4 13]]\n"
     ]
    }
   ],
   "source": [
    "skf = StratifiedKFold(n_splits = FOLDS, shuffle = True, random_state = SEED)\n",
    "\n",
    "for fold, (idxT,idxV) in enumerate(skf.split(disease_train, disease_y_train)):\n",
    "\n",
    "    X_train = disease_train.iloc[idxT]\n",
    "    X_val = disease_train.iloc[idxV]\n",
    "    y_train = disease_y_train[idxT]\n",
    "    y_val = disease_y_train[idxV]\n",
    "\n",
    "    # Random Forest\n",
    "    clf = RandomForestClassifier(n_estimators = 500, random_state = SEED, verbose = 0)\n",
    "    clf.fit(X_train, y_train )\n",
    "\n",
    "    RF_pred_class = clf.predict(X_val)\n",
    "    RF_preds = clf.predict_proba(X_val)\n",
    "    \n",
    "    RF_AUC_test_score = roc_auc_score(y_val, RF_preds[:,1])\n",
    "    RF_f1_test = f1_score(y_val, RF_pred_class)\n",
    "    RF_recall_test = recall_score(y_val, RF_pred_class)\n",
    "    RF_precision_test = precision_score(y_val, RF_pred_class)\n",
    "    \n",
    "    if show_fold_stats:\n",
    "        print('-' * 80)\n",
    "        print('Fold : %s'%(fold+1))\n",
    "        print('ROC AUC score for RandomForest model, validation set: %.4f'%RF_AUC_test_score)\n",
    "        print('F1 : %.4f, Recall : %.4f , Precision : %.4f'%(RF_f1_test, RF_recall_test, RF_precision_test))\n",
    "        print(confusion_matrix(y_val, RF_pred_class))\n",
    "    \n",
    "    # XGBoost\n",
    "    XGB_model = XGBClassifier(n_estimators=5000, max_depth=None, \n",
    "                        learning_rate=0.005,\n",
    "                        objective='binary:logistic', \n",
    "                        metric='auc',\n",
    "                        verbosity  = VERBOSE,\n",
    "                        # tree_method = 'gpu_hist',\n",
    "                        use_label_encoder=False,\n",
    "                        n_jobs=-1, random_state  = SEED )\n",
    "    \n",
    "    XGB_model.fit(X_train, y_train,\n",
    "                    eval_set = [(X_val, y_val)],\n",
    "                    eval_metric=['logloss'],\n",
    "                    early_stopping_rounds = 100, verbose = VERBOSE )\n",
    "        \n",
    "    XGB_preds = XGB_model.predict_proba(X_val)\n",
    "    XGB_class = XGB_model.predict(X_val)\n",
    "\n",
    "    XGB_score = roc_auc_score(y_val, XGB_preds[:,1])\n",
    "    XGB_f1 = f1_score(y_val, XGB_class)\n",
    "    XGB_recall = recall_score(y_val, XGB_class)\n",
    "    XGB_precision = precision_score(y_val, XGB_class)\n",
    "    \n",
    "    if show_fold_stats:        \n",
    "        print('ROC AUC score for XGBoost model, validation set: %.4f'%XGB_score)\n",
    "        print('F1 : %.4f, Recall : %.4f , Precision : %.4f'%(XGB_f1, XGB_recall, XGB_precision))\n",
    "        print(confusion_matrix(y_val, XGB_class))\n",
    "        \n",
    "    # Logistic Regression\n",
    "    LogReg_model = LogisticRegression(random_state=SEED)\n",
    "    LogReg_model.fit(X_train, y_train)\n",
    "    LogReg_preds = LogReg_model.predict_proba(X_val)\n",
    "    LogReg_class = LogReg_model.predict(X_val)\n",
    "\n",
    "    LogReg_score = roc_auc_score(y_val, LogReg_preds[:,1])\n",
    "    LogReg_f1 = f1_score(y_val, LogReg_class)\n",
    "    LogReg_recall = recall_score(y_val, LogReg_class)\n",
    "    LogReg_precision = precision_score(y_val, LogReg_class)\n",
    "    \n",
    "    if show_fold_stats:        \n",
    "        print('ROC AUC score for Logistic Regression model, validation set: %.4f'%LogReg_score)\n",
    "        print('F1 : %.4f, Recall : %.4f , Precision : %.4f'%(LogReg_f1, LogReg_recall, LogReg_precision))\n",
    "        print(confusion_matrix(y_val, LogReg_class))\n",
    "\n",
    "    # Feedforward neural network (multilayer perceptron)\n",
    "    \n",
    "    # hyperparameter tuning (optional)\n",
    "    # MLP_model = GridSearchCV(MLPClassifier(max_iter=1000,random_state=SEED), MLP_param_grid, cv=3,\n",
    "    #                           scoring='accuracy')\n",
    "  \n",
    "\n",
    "    MLP_model = MLPClassifier(hidden_layer_sizes=(50,),max_iter=500,random_state=SEED)\n",
    "    # you can set hyperparameters see: https://scikit-learn.org/stable/modules/generated/sklearn.neural_network.MLPClassifier.html\n",
    "    # some parameter combinations will not converge as can be seen on the\n",
    "    # plots so they are ignored here\n",
    "    with warnings.catch_warnings():\n",
    "        warnings.filterwarnings(\n",
    "            \"ignore\", category=ConvergenceWarning, module=\"sklearn\"\n",
    "        )\n",
    "        MLP_model.fit(X_train, y_train)\n",
    "        \n",
    "    #     print(\"Best parameters set found on development set:\")\n",
    "    #     print(MLP_model.best_params_)\n",
    "    MLP_preds = MLP_model.predict_proba(X_val)\n",
    "    MLP_class = MLP_model.predict(X_val)\n",
    "\n",
    "    MLP_score = roc_auc_score(y_val, MLP_preds[:,1])\n",
    "    MLP_f1 = f1_score(y_val, MLP_class)\n",
    "    MLP_recall = recall_score(y_val, MLP_class)\n",
    "    MLP_precision = precision_score(y_val, MLP_class)\n",
    "    \n",
    "    if show_fold_stats:        \n",
    "        print('ROC AUC score for MLP model, validation set: %.4f'%MLP_score)\n",
    "        print('F1 : %.4f, Recall : %.4f , Precision : %.4f'%(MLP_f1, MLP_recall, MLP_precision))\n",
    "        print(confusion_matrix(y_val, MLP_class))\n",
    "        \n",
    "        \n",
    "#     RF_preds_test = clf.predict_proba(disease_test)\n",
    "#     XGB_preds_test = XGB_model.predict_proba(disease_test)\n",
    "#     LogReg_preds_test = LogReg_model.predict_proba(disease_test)\n",
    "#     MLP_preds_test = MLP_model.predict_proba(disease_test)\n",
    "#     avg_preds_test = (RF_preds_test[:,1] + XGB_preds_test[:,1] + LogReg_preds_test[:,1] + MLP_preds_test[:,1]) / 4\n",
    "\n",
    "#     RF_test_AUC = roc_auc_score(disease_y_test, RF_preds_test[:,1])\n",
    "#     print('ROC AUC score for RF for test set: %.4f'%RF_test_AUC)\n",
    "#     XGB_test_AUC = roc_auc_score(disease_y_test, XGB_preds_test[:,1])\n",
    "#     print('ROC AUC score for XGBoost model test set: %.4f'%XGB_test_AUC)\n",
    "#     LogReg_test_AUC = roc_auc_score(disease_y_test, LogReg_preds_test[:,1])\n",
    "#     print('ROC AUC score for Logistic Regression for test set: %.4f'%LogReg_test_AUC)\n",
    "#     MLP_test_AUC = roc_auc_score(disease_y_test, MLP_preds_test[:,1])\n",
    "#     print('ROC AUC score for MLP for test set: %.4f'%MLP_test_AUC)\n",
    "#     average_AUC = roc_auc_score(disease_y_test, avg_preds_test )\n",
    "#     print('ROC AUC score averaged between 2 models for test set: %.4f'%average_AUC)\n",
    "    \n",
    "#     avg_class = np.where(avg_preds_test < 0.7, 0, 1)\n",
    "#     print('F1 : %.4f, Recall : %.4f , Precision : %.4f'%(f1_score(disease_y_test, avg_class), recall_score(disease_y_test, avg_class), precision_score(disease_y_test, avg_class)))\n",
    "#     print(confusion_matrix(disease_y_test, avg_class))\n",
    "    \n",
    "    "
   ]
  },
  {
   "cell_type": "code",
   "execution_count": 11,
   "metadata": {
    "execution": {
     "iopub.execute_input": "2022-05-25T12:16:07.453534Z",
     "iopub.status.busy": "2022-05-25T12:16:07.449480Z",
     "iopub.status.idle": "2022-05-25T12:16:46.735916Z",
     "shell.execute_reply": "2022-05-25T12:16:46.734851Z",
     "shell.execute_reply.started": "2022-05-24T15:47:11.224663Z"
    },
    "papermill": {
     "duration": 39.354178,
     "end_time": "2022-05-25T12:16:46.736098",
     "exception": false,
     "start_time": "2022-05-25T12:16:07.381920",
     "status": "completed"
    },
    "tags": []
   },
   "outputs": [
    {
     "name": "stdout",
     "output_type": "stream",
     "text": [
      "--------------------------------------------------------------------------------\n",
      "Fold : 5\n",
      "ROC AUC score for RandomForest model, validation set: 1.0000\n",
      "F1 : 1.0000, Recall : 1.0000 , Precision : 1.0000\n",
      "[[119   0]\n",
      " [  0  84]]\n",
      "ROC AUC score for Logistic Regression model, validation set: 0.7966\n",
      "F1 : 0.0000, Recall : 0.0000 , Precision : 0.0000\n",
      "[[119   0]\n",
      " [ 84   0]]\n"
     ]
    },
    {
     "name": "stderr",
     "output_type": "stream",
     "text": [
      "/opt/conda/lib/python3.7/site-packages/sklearn/metrics/_classification.py:1221: UndefinedMetricWarning: Precision is ill-defined and being set to 0.0 due to no predicted samples. Use `zero_division` parameter to control this behavior.\n",
      "  _warn_prf(average, modifier, msg_start, len(result))\n"
     ]
    },
    {
     "name": "stdout",
     "output_type": "stream",
     "text": [
      "ROC AUC score for MLP model, validation set: 0.9383\n",
      "F1 : 0.8193, Recall : 0.8095 , Precision : 0.8293\n",
      "[[105  14]\n",
      " [ 16  68]]\n",
      "ROC AUC score for XGBoost model, validation set: 1.0000\n",
      "F1 : 1.0000, Recall : 1.0000 , Precision : 1.0000\n",
      "[[119   0]\n",
      " [  0  84]]\n",
      "ROC AUC score for RF for test set: 0.9938\n",
      "ROC AUC score for XGBoost model test set: 0.9969\n",
      "ROC AUC score for Logistic Regression for test set: 0.7114\n",
      "ROC AUC score for MLP for test set: 0.7701\n",
      "ROC AUC score averaged between 2 models for test set: 0.9938\n",
      "F1 : 0.6829, Recall : 0.5185 , Precision : 1.0000\n",
      "[[24  0]\n",
      " [13 14]]\n"
     ]
    },
    {
     "data": {
      "image/png": "[encoded data removed]",
      "text/plain": [
       "<Figure size 432x288 with 1 Axes>"
      ]
     },
     "metadata": {
      "needs_background": "light"
     },
     "output_type": "display_data"
    },
    {
     "data": {
      "image/png": "[encoded data removed]",
      "text/plain": [
       "<Figure size 432x288 with 2 Axes>"
      ]
     },
     "metadata": {
      "needs_background": "light"
     },
     "output_type": "display_data"
    },
    {
     "data": {
      "image/png": "[encoded data removed]",
      "text/plain": [
       "<Figure size 432x288 with 1 Axes>"
      ]
     },
     "metadata": {
      "needs_background": "light"
     },
     "output_type": "display_data"
    },
    {
     "data": {
      "image/png": "[encoded data removed]",
      "text/plain": [
       "<Figure size 432x288 with 2 Axes>"
      ]
     },
     "metadata": {
      "needs_background": "light"
     },
     "output_type": "display_data"
    },
    {
     "data": {
      "image/png": "[encoded data removed]",
      "text/plain": [
       "<Figure size 432x288 with 1 Axes>"
      ]
     },
     "metadata": {
      "needs_background": "light"
     },
     "output_type": "display_data"
    },
    {
     "data": {
      "image/png": "[encoded data removed]",
      "text/plain": [
       "<Figure size 432x288 with 2 Axes>"
      ]
     },
     "metadata": {
      "needs_background": "light"
     },
     "output_type": "display_data"
    },
    {
     "data": {
      "image/png": "[encoded data removed]",
      "text/plain": [
       "<Figure size 432x288 with 1 Axes>"
      ]
     },
     "metadata": {
      "needs_background": "light"
     },
     "output_type": "display_data"
    },
    {
     "data": {
      "image/png": "[encoded data removed]",
      "text/plain": [
       "<Figure size 432x288 with 2 Axes>"
      ]
     },
     "metadata": {
      "needs_background": "light"
     },
     "output_type": "display_data"
    }
   ],
   "source": [
    "# Now we can train the learners (models) with the whole training dataset and evaluate the models on the test set\n",
    "X_train = disease_train\n",
    "X_val = disease_train\n",
    "y_train = disease_y_train\n",
    "y_val = disease_y_train\n",
    "    \n",
    "    \n",
    "# Random Forest\n",
    "clf = RandomForestClassifier(n_estimators = 500, random_state = SEED, verbose = 0)\n",
    "clf.fit(X_train, y_train )\n",
    "\n",
    "RF_pred_class = clf.predict(X_val)\n",
    "RF_preds = clf.predict_proba(X_val)\n",
    "\n",
    "RF_AUC_test_score = roc_auc_score(y_val, RF_preds[:,1])\n",
    "RF_f1_test = f1_score(y_val, RF_pred_class)\n",
    "RF_recall_test = recall_score(y_val, RF_pred_class)\n",
    "RF_precision_test = precision_score(y_val, RF_pred_class)\n",
    "    \n",
    "if show_fold_stats:\n",
    "    print('-' * 80)\n",
    "    print('Fold : %s'%(fold+1))\n",
    "    print('ROC AUC score for RandomForest model, validation set: %.4f'%RF_AUC_test_score)\n",
    "    print('F1 : %.4f, Recall : %.4f , Precision : %.4f'%(RF_f1_test, RF_recall_test, RF_precision_test))\n",
    "    print(confusion_matrix(y_val, RF_pred_class))\n",
    "    \n",
    "    \n",
    "# Logistic Regression\n",
    "LogReg_model = LogisticRegression(random_state=SEED)\n",
    "LogReg_model.fit(X_train, y_train)\n",
    "LogReg_preds = LogReg_model.predict_proba(X_val)\n",
    "LogReg_class = LogReg_model.predict(X_val)\n",
    "\n",
    "LogReg_score = roc_auc_score(y_val, LogReg_preds[:,1])\n",
    "LogReg_f1 = f1_score(y_val, LogReg_class)\n",
    "LogReg_recall = recall_score(y_val, LogReg_class)\n",
    "LogReg_precision = precision_score(y_val, LogReg_class)\n",
    "    \n",
    "if show_fold_stats:        \n",
    "    print('ROC AUC score for Logistic Regression model, validation set: %.4f'%LogReg_score)\n",
    "    print('F1 : %.4f, Recall : %.4f , Precision : %.4f'%(LogReg_f1, LogReg_recall, LogReg_precision))\n",
    "    print(confusion_matrix(y_val, LogReg_class))\n",
    "\n",
    "# Feedforward neural network (multilayer perceptron)\n",
    "\n",
    "# hyperparameter tuning (optional)\n",
    "# MLP_model = GridSearchCV(MLPClassifier(max_iter=1000,random_state=SEED), MLP_param_grid, cv=3,\n",
    "#                           scoring='accuracy')\n",
    "\n",
    "\n",
    "MLP_model = MLPClassifier(hidden_layer_sizes=(50,),max_iter=500,random_state=SEED)\n",
    "# you can set hyperparameters see: https://scikit-learn.org/stable/modules/generated/sklearn.neural_network.MLPClassifier.html\n",
    "# some parameter combinations will not converge as can be seen on the\n",
    "# plots so they are ignored here\n",
    "with warnings.catch_warnings():\n",
    "    warnings.filterwarnings(\n",
    "        \"ignore\", category=ConvergenceWarning, module=\"sklearn\"\n",
    "    )\n",
    "    MLP_model.fit(X_train, y_train)\n",
    "\n",
    "#     print(\"Best parameters set found on development set:\")\n",
    "#     print(MLP_model.best_params_)\n",
    "MLP_preds = MLP_model.predict_proba(X_val)\n",
    "MLP_class = MLP_model.predict(X_val)\n",
    "\n",
    "MLP_score = roc_auc_score(y_val, MLP_preds[:,1])\n",
    "MLP_f1 = f1_score(y_val, MLP_class)\n",
    "MLP_recall = recall_score(y_val, MLP_class)\n",
    "MLP_precision = precision_score(y_val, MLP_class)\n",
    "\n",
    "if show_fold_stats:        \n",
    "    print('ROC AUC score for MLP model, validation set: %.4f'%MLP_score)\n",
    "    print('F1 : %.4f, Recall : %.4f , Precision : %.4f'%(MLP_f1, MLP_recall, MLP_precision))\n",
    "    print(confusion_matrix(y_val, MLP_class))\n",
    "\n",
    "# XGBoost\n",
    "XGB_model = XGBClassifier(n_estimators=5000, max_depth=None, \n",
    "                    learning_rate=0.005,\n",
    "                    objective='binary:logistic', \n",
    "                    metric='auc',\n",
    "                    verbosity  = VERBOSE,\n",
    "                    # tree_method = 'gpu_hist',\n",
    "                    use_label_encoder=False,\n",
    "                    n_jobs=-1, random_state  = SEED )\n",
    "\n",
    "XGB_model.fit(X_train, y_train,\n",
    "                eval_set = [(X_val, y_val)],\n",
    "                eval_metric=['logloss'],\n",
    "                early_stopping_rounds = 100, verbose = VERBOSE )\n",
    "\n",
    "XGB_preds = XGB_model.predict_proba(X_val)\n",
    "XGB_class = XGB_model.predict(X_val)\n",
    "\n",
    "XGB_score = roc_auc_score(y_val, XGB_preds[:,1])\n",
    "XGB_f1 = f1_score(y_val, XGB_class)\n",
    "XGB_recall = recall_score(y_val, XGB_class)\n",
    "XGB_precision = precision_score(y_val, XGB_class)\n",
    "\n",
    "if show_fold_stats:        \n",
    "    print('ROC AUC score for XGBoost model, validation set: %.4f'%XGB_score)\n",
    "    print('F1 : %.4f, Recall : %.4f , Precision : %.4f'%(XGB_f1, XGB_recall, XGB_precision))\n",
    "    print(confusion_matrix(y_val, XGB_class))  \n",
    "\n",
    "        \n",
    "        \n",
    "        \n",
    "        \n",
    "RF_preds_test = clf.predict_proba(disease_test)\n",
    "XGB_preds_test = XGB_model.predict_proba(disease_test)\n",
    "LogReg_preds_test = LogReg_model.predict_proba(disease_test)\n",
    "MLP_preds_test = MLP_model.predict_proba(disease_test)\n",
    "avg_preds_test = (RF_preds_test[:,1] + XGB_preds_test[:,1] + LogReg_preds_test[:,1] + MLP_preds_test[:,1]) / 4\n",
    "\n",
    "RF_test_AUC = roc_auc_score(disease_y_test, RF_preds_test[:,1])\n",
    "print('ROC AUC score for RF for test set: %.4f'%RF_test_AUC)\n",
    "XGB_test_AUC = roc_auc_score(disease_y_test, XGB_preds_test[:,1])\n",
    "print('ROC AUC score for XGBoost model test set: %.4f'%XGB_test_AUC)\n",
    "LogReg_test_AUC = roc_auc_score(disease_y_test, LogReg_preds_test[:,1])\n",
    "print('ROC AUC score for Logistic Regression for test set: %.4f'%LogReg_test_AUC)\n",
    "MLP_test_AUC = roc_auc_score(disease_y_test, MLP_preds_test[:,1])\n",
    "print('ROC AUC score for MLP for test set: %.4f'%MLP_test_AUC)\n",
    "average_AUC = roc_auc_score(disease_y_test, avg_preds_test )\n",
    "print('ROC AUC score averaged between 2 models for test set: %.4f'%average_AUC)\n",
    "    \n",
    "avg_class = np.where(avg_preds_test < 0.7, 0, 1)\n",
    "print('F1 : %.4f, Recall : %.4f , Precision : %.4f'%(f1_score(disease_y_test, avg_class), recall_score(disease_y_test, avg_class), precision_score(disease_y_test, avg_class)))\n",
    "print(confusion_matrix(disease_y_test, avg_class))\n",
    "    \n",
    "# ax = plt.gca()\n",
    "RF_disp = metrics.plot_roc_curve(clf, disease_test, disease_y_test)\n",
    "RF_CM = metrics.plot_confusion_matrix(clf, disease_test, disease_y_test)  \n",
    "LogReg_disp = metrics.plot_roc_curve(LogReg_model, disease_test, disease_y_test)\n",
    "LogReg_CM = metrics.plot_confusion_matrix(LogReg_model, disease_test, disease_y_test)\n",
    "MLP_disp = metrics.plot_roc_curve(MLP_model, disease_test, disease_y_test)\n",
    "MLP_CM = metrics.plot_confusion_matrix(MLP_model, disease_test, disease_y_test)\n",
    "XGB_disp = metrics.plot_roc_curve(XGB_model, disease_test, disease_y_test)\n",
    "XGB_CM = metrics.plot_confusion_matrix(XGB_model, disease_test, disease_y_test)\n",
    "\n",
    "# RF_disp = RocCurveDisplay.from_estimator(clf, X_test, y_test, ax=ax, alpha=0.8)\n",
    "# LogReg_disp = RocCurveDisplay.from_estimator(LogReg_model, X_test, y_test, ax=ax, alpha=0.8)\n",
    "# MLP_disp = RocCurveDisplay.from_estimator(MLP_model, X_test, y_test, ax=ax, alpha=0.8)\n",
    "# XGB_disp = RocCurveDisplay.from_estimator(XGB_model, X_test, y_test, ax=ax, alpha=0.8)\n",
    "# plt.plot(ax=ax, alpha=0.8)\n",
    "plt.show()"
   ]
  },
  {
   "cell_type": "markdown",
   "metadata": {
    "papermill": {
     "duration": 0.050737,
     "end_time": "2022-05-25T12:16:46.840844",
     "exception": false,
     "start_time": "2022-05-25T12:16:46.790107",
     "status": "completed"
    },
    "tags": []
   },
   "source": [
    "Let's try the metagenomic data: 30 samples with ASD and 30 TD"
   ]
  },
  {
   "cell_type": "code",
   "execution_count": 12,
   "metadata": {
    "execution": {
     "iopub.execute_input": "2022-05-25T12:16:46.968284Z",
     "iopub.status.busy": "2022-05-25T12:16:46.967173Z",
     "iopub.status.idle": "2022-05-25T12:16:46.976671Z",
     "shell.execute_reply": "2022-05-25T12:16:46.975941Z",
     "shell.execute_reply.started": "2022-05-24T15:50:26.952513Z"
    },
    "papermill": {
     "duration": 0.098629,
     "end_time": "2022-05-25T12:16:46.976836",
     "exception": false,
     "start_time": "2022-05-25T12:16:46.878207",
     "status": "completed"
    },
    "tags": []
   },
   "outputs": [],
   "source": [
    "# exclude absent spcecies\n",
    "pd_meta_abundance = pd_meta_abundance[pd_meta_abundance.sum(axis = 1) !=0]"
   ]
  },
  {
   "cell_type": "code",
   "execution_count": 13,
   "metadata": {
    "execution": {
     "iopub.execute_input": "2022-05-25T12:16:47.072057Z",
     "iopub.status.busy": "2022-05-25T12:16:47.062776Z",
     "iopub.status.idle": "2022-05-25T12:16:47.080481Z",
     "shell.execute_reply": "2022-05-25T12:16:47.079772Z",
     "shell.execute_reply.started": "2022-05-24T15:50:29.428311Z"
    },
    "papermill": {
     "duration": 0.066828,
     "end_time": "2022-05-25T12:16:47.080639",
     "exception": false,
     "start_time": "2022-05-25T12:16:47.013811",
     "status": "completed"
    },
    "tags": []
   },
   "outputs": [
    {
     "name": "stdout",
     "output_type": "stream",
     "text": [
      "first 5 rows:\n"
     ]
    },
    {
     "data": {
      "text/html": [
       "<div>\n",
       "<style scoped>\n",
       "    .dataframe tbody tr th:only-of-type {\n",
       "        vertical-align: middle;\n",
       "    }\n",
       "\n",
       "    .dataframe tbody tr th {\n",
       "        vertical-align: top;\n",
       "    }\n",
       "\n",
       "    .dataframe thead th {\n",
       "        text-align: right;\n",
       "    }\n",
       "</style>\n",
       "<table border=\"1\" class=\"dataframe\">\n",
       "  <thead>\n",
       "    <tr style=\"text-align: right;\">\n",
       "      <th></th>\n",
       "      <th>Taxonomy</th>\n",
       "      <th>A3</th>\n",
       "      <th>A5</th>\n",
       "      <th>A6</th>\n",
       "      <th>A9</th>\n",
       "      <th>A31</th>\n",
       "      <th>A51</th>\n",
       "      <th>A52</th>\n",
       "      <th>A53</th>\n",
       "      <th>A54</th>\n",
       "      <th>...</th>\n",
       "      <th>B120</th>\n",
       "      <th>B127</th>\n",
       "      <th>B132</th>\n",
       "      <th>B141</th>\n",
       "      <th>B142</th>\n",
       "      <th>B143</th>\n",
       "      <th>B152</th>\n",
       "      <th>B156</th>\n",
       "      <th>B158</th>\n",
       "      <th>B164</th>\n",
       "    </tr>\n",
       "  </thead>\n",
       "  <tbody>\n",
       "    <tr>\n",
       "      <th>0</th>\n",
       "      <td>g__Faecalibacterium;s__Faecalibacterium prausn...</td>\n",
       "      <td>4988</td>\n",
       "      <td>5060</td>\n",
       "      <td>2905</td>\n",
       "      <td>5745</td>\n",
       "      <td>4822</td>\n",
       "      <td>3889</td>\n",
       "      <td>4646</td>\n",
       "      <td>6337</td>\n",
       "      <td>5064</td>\n",
       "      <td>...</td>\n",
       "      <td>4471</td>\n",
       "      <td>5868</td>\n",
       "      <td>6561</td>\n",
       "      <td>4910</td>\n",
       "      <td>4492</td>\n",
       "      <td>2812</td>\n",
       "      <td>5303</td>\n",
       "      <td>4205</td>\n",
       "      <td>3430</td>\n",
       "      <td>4563</td>\n",
       "    </tr>\n",
       "    <tr>\n",
       "      <th>1</th>\n",
       "      <td>g__Hungatella;s__Hungatella hathewayi</td>\n",
       "      <td>5803</td>\n",
       "      <td>5612</td>\n",
       "      <td>4109</td>\n",
       "      <td>1432</td>\n",
       "      <td>2652</td>\n",
       "      <td>4175</td>\n",
       "      <td>3891</td>\n",
       "      <td>894</td>\n",
       "      <td>4903</td>\n",
       "      <td>...</td>\n",
       "      <td>2126</td>\n",
       "      <td>4429</td>\n",
       "      <td>2598</td>\n",
       "      <td>4222</td>\n",
       "      <td>4925</td>\n",
       "      <td>5753</td>\n",
       "      <td>1261</td>\n",
       "      <td>1822</td>\n",
       "      <td>2478</td>\n",
       "      <td>4868</td>\n",
       "    </tr>\n",
       "    <tr>\n",
       "      <th>2</th>\n",
       "      <td>g__Clostridium;s__uncultured Clostridium sp.</td>\n",
       "      <td>3793</td>\n",
       "      <td>2795</td>\n",
       "      <td>1355</td>\n",
       "      <td>5558</td>\n",
       "      <td>5383</td>\n",
       "      <td>3505</td>\n",
       "      <td>5541</td>\n",
       "      <td>4429</td>\n",
       "      <td>4121</td>\n",
       "      <td>...</td>\n",
       "      <td>4085</td>\n",
       "      <td>6041</td>\n",
       "      <td>6188</td>\n",
       "      <td>3960</td>\n",
       "      <td>4403</td>\n",
       "      <td>2841</td>\n",
       "      <td>2746</td>\n",
       "      <td>3808</td>\n",
       "      <td>3856</td>\n",
       "      <td>3211</td>\n",
       "    </tr>\n",
       "    <tr>\n",
       "      <th>3</th>\n",
       "      <td>g__Butyricimonas;s__Butyricimonas virosa</td>\n",
       "      <td>64</td>\n",
       "      <td>1385</td>\n",
       "      <td>725</td>\n",
       "      <td>1553</td>\n",
       "      <td>40</td>\n",
       "      <td>53</td>\n",
       "      <td>33</td>\n",
       "      <td>175</td>\n",
       "      <td>58</td>\n",
       "      <td>...</td>\n",
       "      <td>2065</td>\n",
       "      <td>21</td>\n",
       "      <td>27</td>\n",
       "      <td>55</td>\n",
       "      <td>35</td>\n",
       "      <td>8</td>\n",
       "      <td>884</td>\n",
       "      <td>13</td>\n",
       "      <td>3</td>\n",
       "      <td>218</td>\n",
       "    </tr>\n",
       "    <tr>\n",
       "      <th>4</th>\n",
       "      <td>g__Alistipes;s__Alistipes indistinctus</td>\n",
       "      <td>15</td>\n",
       "      <td>20</td>\n",
       "      <td>723</td>\n",
       "      <td>620</td>\n",
       "      <td>3261</td>\n",
       "      <td>43</td>\n",
       "      <td>83</td>\n",
       "      <td>37</td>\n",
       "      <td>43</td>\n",
       "      <td>...</td>\n",
       "      <td>90</td>\n",
       "      <td>22</td>\n",
       "      <td>30</td>\n",
       "      <td>1027</td>\n",
       "      <td>2641</td>\n",
       "      <td>4</td>\n",
       "      <td>1587</td>\n",
       "      <td>2223</td>\n",
       "      <td>6</td>\n",
       "      <td>1473</td>\n",
       "    </tr>\n",
       "  </tbody>\n",
       "</table>\n",
       "<p>5 rows × 61 columns</p>\n",
       "</div>"
      ],
      "text/plain": [
       "                                            Taxonomy    A3    A5    A6    A9  \\\n",
       "0  g__Faecalibacterium;s__Faecalibacterium prausn...  4988  5060  2905  5745   \n",
       "1              g__Hungatella;s__Hungatella hathewayi  5803  5612  4109  1432   \n",
       "2       g__Clostridium;s__uncultured Clostridium sp.  3793  2795  1355  5558   \n",
       "3           g__Butyricimonas;s__Butyricimonas virosa    64  1385   725  1553   \n",
       "4             g__Alistipes;s__Alistipes indistinctus    15    20   723   620   \n",
       "\n",
       "    A31   A51   A52   A53   A54  ...  B120  B127  B132  B141  B142  B143  \\\n",
       "0  4822  3889  4646  6337  5064  ...  4471  5868  6561  4910  4492  2812   \n",
       "1  2652  4175  3891   894  4903  ...  2126  4429  2598  4222  4925  5753   \n",
       "2  5383  3505  5541  4429  4121  ...  4085  6041  6188  3960  4403  2841   \n",
       "3    40    53    33   175    58  ...  2065    21    27    55    35     8   \n",
       "4  3261    43    83    37    43  ...    90    22    30  1027  2641     4   \n",
       "\n",
       "   B152  B156  B158  B164  \n",
       "0  5303  4205  3430  4563  \n",
       "1  1261  1822  2478  4868  \n",
       "2  2746  3808  3856  3211  \n",
       "3   884    13     3   218  \n",
       "4  1587  2223     6  1473  \n",
       "\n",
       "[5 rows x 61 columns]"
      ]
     },
     "execution_count": 13,
     "metadata": {},
     "output_type": "execute_result"
    }
   ],
   "source": [
    "print(\"first 5 rows:\")\n",
    "# Print the first 5 rows of the data\n",
    "pd_meta_abundance.head()"
   ]
  },
  {
   "cell_type": "code",
   "execution_count": 14,
   "metadata": {
    "execution": {
     "iopub.execute_input": "2022-05-25T12:16:47.165715Z",
     "iopub.status.busy": "2022-05-25T12:16:47.165058Z",
     "iopub.status.idle": "2022-05-25T12:16:47.168048Z",
     "shell.execute_reply": "2022-05-25T12:16:47.167530Z",
     "shell.execute_reply.started": "2022-05-24T15:50:32.476707Z"
    },
    "papermill": {
     "duration": 0.049809,
     "end_time": "2022-05-25T12:16:47.168198",
     "exception": false,
     "start_time": "2022-05-25T12:16:47.118389",
     "status": "completed"
    },
    "tags": []
   },
   "outputs": [],
   "source": [
    "pd_meta_abndc = pd_meta_abundance.drop(['Taxonomy'], axis=1).T\n",
    "target = pd_meta_abndc.index.to_list()\n",
    "binary_target = np.array([0 if t.startswith('A') else 1 for t in target ])"
   ]
  },
  {
   "cell_type": "code",
   "execution_count": 15,
   "metadata": {
    "execution": {
     "iopub.execute_input": "2022-05-25T12:16:47.265488Z",
     "iopub.status.busy": "2022-05-25T12:16:47.251091Z",
     "iopub.status.idle": "2022-05-25T12:16:47.271531Z",
     "shell.execute_reply": "2022-05-25T12:16:47.270637Z",
     "shell.execute_reply.started": "2022-05-24T15:50:40.07982Z"
    },
    "papermill": {
     "duration": 0.065762,
     "end_time": "2022-05-25T12:16:47.271727",
     "exception": false,
     "start_time": "2022-05-25T12:16:47.205965",
     "status": "completed"
    },
    "tags": []
   },
   "outputs": [
    {
     "name": "stdout",
     "output_type": "stream",
     "text": [
      "first 5 rows:\n"
     ]
    },
    {
     "data": {
      "text/html": [
       "<div>\n",
       "<style scoped>\n",
       "    .dataframe tbody tr th:only-of-type {\n",
       "        vertical-align: middle;\n",
       "    }\n",
       "\n",
       "    .dataframe tbody tr th {\n",
       "        vertical-align: top;\n",
       "    }\n",
       "\n",
       "    .dataframe thead th {\n",
       "        text-align: right;\n",
       "    }\n",
       "</style>\n",
       "<table border=\"1\" class=\"dataframe\">\n",
       "  <thead>\n",
       "    <tr style=\"text-align: right;\">\n",
       "      <th></th>\n",
       "      <th>0</th>\n",
       "      <th>1</th>\n",
       "      <th>2</th>\n",
       "      <th>3</th>\n",
       "      <th>4</th>\n",
       "      <th>5</th>\n",
       "      <th>6</th>\n",
       "      <th>7</th>\n",
       "      <th>8</th>\n",
       "      <th>9</th>\n",
       "      <th>...</th>\n",
       "      <th>5447</th>\n",
       "      <th>5448</th>\n",
       "      <th>5449</th>\n",
       "      <th>5450</th>\n",
       "      <th>5451</th>\n",
       "      <th>5452</th>\n",
       "      <th>5453</th>\n",
       "      <th>5454</th>\n",
       "      <th>5455</th>\n",
       "      <th>5456</th>\n",
       "    </tr>\n",
       "  </thead>\n",
       "  <tbody>\n",
       "    <tr>\n",
       "      <th>A3</th>\n",
       "      <td>4988</td>\n",
       "      <td>5803</td>\n",
       "      <td>3793</td>\n",
       "      <td>64</td>\n",
       "      <td>15</td>\n",
       "      <td>100</td>\n",
       "      <td>2119</td>\n",
       "      <td>12</td>\n",
       "      <td>453</td>\n",
       "      <td>1266</td>\n",
       "      <td>...</td>\n",
       "      <td>0</td>\n",
       "      <td>0</td>\n",
       "      <td>0</td>\n",
       "      <td>0</td>\n",
       "      <td>0</td>\n",
       "      <td>0</td>\n",
       "      <td>0</td>\n",
       "      <td>0</td>\n",
       "      <td>0</td>\n",
       "      <td>0</td>\n",
       "    </tr>\n",
       "    <tr>\n",
       "      <th>A5</th>\n",
       "      <td>5060</td>\n",
       "      <td>5612</td>\n",
       "      <td>2795</td>\n",
       "      <td>1385</td>\n",
       "      <td>20</td>\n",
       "      <td>29</td>\n",
       "      <td>1230</td>\n",
       "      <td>24</td>\n",
       "      <td>691</td>\n",
       "      <td>1682</td>\n",
       "      <td>...</td>\n",
       "      <td>0</td>\n",
       "      <td>0</td>\n",
       "      <td>0</td>\n",
       "      <td>0</td>\n",
       "      <td>0</td>\n",
       "      <td>0</td>\n",
       "      <td>0</td>\n",
       "      <td>0</td>\n",
       "      <td>0</td>\n",
       "      <td>0</td>\n",
       "    </tr>\n",
       "    <tr>\n",
       "      <th>A6</th>\n",
       "      <td>2905</td>\n",
       "      <td>4109</td>\n",
       "      <td>1355</td>\n",
       "      <td>725</td>\n",
       "      <td>723</td>\n",
       "      <td>11</td>\n",
       "      <td>1322</td>\n",
       "      <td>1</td>\n",
       "      <td>2278</td>\n",
       "      <td>43</td>\n",
       "      <td>...</td>\n",
       "      <td>0</td>\n",
       "      <td>0</td>\n",
       "      <td>0</td>\n",
       "      <td>0</td>\n",
       "      <td>0</td>\n",
       "      <td>0</td>\n",
       "      <td>0</td>\n",
       "      <td>0</td>\n",
       "      <td>0</td>\n",
       "      <td>0</td>\n",
       "    </tr>\n",
       "    <tr>\n",
       "      <th>A9</th>\n",
       "      <td>5745</td>\n",
       "      <td>1432</td>\n",
       "      <td>5558</td>\n",
       "      <td>1553</td>\n",
       "      <td>620</td>\n",
       "      <td>1320</td>\n",
       "      <td>2675</td>\n",
       "      <td>44</td>\n",
       "      <td>107</td>\n",
       "      <td>1726</td>\n",
       "      <td>...</td>\n",
       "      <td>0</td>\n",
       "      <td>0</td>\n",
       "      <td>0</td>\n",
       "      <td>0</td>\n",
       "      <td>0</td>\n",
       "      <td>0</td>\n",
       "      <td>0</td>\n",
       "      <td>0</td>\n",
       "      <td>1</td>\n",
       "      <td>0</td>\n",
       "    </tr>\n",
       "    <tr>\n",
       "      <th>A31</th>\n",
       "      <td>4822</td>\n",
       "      <td>2652</td>\n",
       "      <td>5383</td>\n",
       "      <td>40</td>\n",
       "      <td>3261</td>\n",
       "      <td>51</td>\n",
       "      <td>1470</td>\n",
       "      <td>26</td>\n",
       "      <td>342</td>\n",
       "      <td>1804</td>\n",
       "      <td>...</td>\n",
       "      <td>0</td>\n",
       "      <td>0</td>\n",
       "      <td>0</td>\n",
       "      <td>0</td>\n",
       "      <td>0</td>\n",
       "      <td>0</td>\n",
       "      <td>0</td>\n",
       "      <td>0</td>\n",
       "      <td>0</td>\n",
       "      <td>0</td>\n",
       "    </tr>\n",
       "  </tbody>\n",
       "</table>\n",
       "<p>5 rows × 5457 columns</p>\n",
       "</div>"
      ],
      "text/plain": [
       "     0     1     2     3     4     5     6     7     8     9     ...  5447  \\\n",
       "A3   4988  5803  3793    64    15   100  2119    12   453  1266  ...     0   \n",
       "A5   5060  5612  2795  1385    20    29  1230    24   691  1682  ...     0   \n",
       "A6   2905  4109  1355   725   723    11  1322     1  2278    43  ...     0   \n",
       "A9   5745  1432  5558  1553   620  1320  2675    44   107  1726  ...     0   \n",
       "A31  4822  2652  5383    40  3261    51  1470    26   342  1804  ...     0   \n",
       "\n",
       "     5448  5449  5450  5451  5452  5453  5454  5455  5456  \n",
       "A3      0     0     0     0     0     0     0     0     0  \n",
       "A5      0     0     0     0     0     0     0     0     0  \n",
       "A6      0     0     0     0     0     0     0     0     0  \n",
       "A9      0     0     0     0     0     0     0     1     0  \n",
       "A31     0     0     0     0     0     0     0     0     0  \n",
       "\n",
       "[5 rows x 5457 columns]"
      ]
     },
     "execution_count": 15,
     "metadata": {},
     "output_type": "execute_result"
    }
   ],
   "source": [
    "print(\"first 5 rows:\")\n",
    "# Print the first 5 rows of the data\n",
    "pd_meta_abndc.head()"
   ]
  },
  {
   "cell_type": "code",
   "execution_count": 16,
   "metadata": {
    "execution": {
     "iopub.execute_input": "2022-05-25T12:16:47.356346Z",
     "iopub.status.busy": "2022-05-25T12:16:47.354200Z",
     "iopub.status.idle": "2022-05-25T12:16:47.359987Z",
     "shell.execute_reply": "2022-05-25T12:16:47.359326Z",
     "shell.execute_reply.started": "2022-05-24T15:50:43.177844Z"
    },
    "papermill": {
     "duration": 0.049579,
     "end_time": "2022-05-25T12:16:47.360130",
     "exception": false,
     "start_time": "2022-05-25T12:16:47.310551",
     "status": "completed"
    },
    "tags": []
   },
   "outputs": [],
   "source": [
    "# Lets put aside a small test set, so we can check performance of different classifiers against it\n",
    "disease_train, disease_test, disease_y_train, disease_y_test = train_test_split(pd_meta_abndc, binary_target, test_size = 0.2,  random_state = test_train_split_SEED , shuffle = True)   \n"
   ]
  },
  {
   "cell_type": "code",
   "execution_count": 17,
   "metadata": {
    "execution": {
     "iopub.execute_input": "2022-05-25T12:16:47.442499Z",
     "iopub.status.busy": "2022-05-25T12:16:47.441822Z",
     "iopub.status.idle": "2022-05-25T12:16:47.446127Z",
     "shell.execute_reply": "2022-05-25T12:16:47.446833Z",
     "shell.execute_reply.started": "2022-05-24T15:50:47.836802Z"
    },
    "papermill": {
     "duration": 0.048708,
     "end_time": "2022-05-25T12:16:47.447059",
     "exception": false,
     "start_time": "2022-05-25T12:16:47.398351",
     "status": "completed"
    },
    "tags": []
   },
   "outputs": [
    {
     "name": "stdout",
     "output_type": "stream",
     "text": [
      "train data shape:\n"
     ]
    },
    {
     "data": {
      "text/plain": [
       "(48, 5457)"
      ]
     },
     "execution_count": 17,
     "metadata": {},
     "output_type": "execute_result"
    }
   ],
   "source": [
    "print(\"train data shape:\")\n",
    "# Print the first 5 rows of the data\n",
    "disease_train.shape"
   ]
  },
  {
   "cell_type": "code",
   "execution_count": 18,
   "metadata": {
    "execution": {
     "iopub.execute_input": "2022-05-25T12:16:47.531136Z",
     "iopub.status.busy": "2022-05-25T12:16:47.530537Z",
     "iopub.status.idle": "2022-05-25T12:16:47.536034Z",
     "shell.execute_reply": "2022-05-25T12:16:47.535512Z",
     "shell.execute_reply.started": "2022-05-24T15:50:51.257154Z"
    },
    "papermill": {
     "duration": 0.049519,
     "end_time": "2022-05-25T12:16:47.536176",
     "exception": false,
     "start_time": "2022-05-25T12:16:47.486657",
     "status": "completed"
    },
    "tags": []
   },
   "outputs": [
    {
     "name": "stdout",
     "output_type": "stream",
     "text": [
      "test data shape:\n"
     ]
    },
    {
     "data": {
      "text/plain": [
       "(12, 5457)"
      ]
     },
     "execution_count": 18,
     "metadata": {},
     "output_type": "execute_result"
    }
   ],
   "source": [
    "print(\"test data shape:\")\n",
    "# Print the first 5 rows of the data\n",
    "disease_test.shape"
   ]
  },
  {
   "cell_type": "code",
   "execution_count": 19,
   "metadata": {
    "execution": {
     "iopub.execute_input": "2022-05-25T12:16:47.635897Z",
     "iopub.status.busy": "2022-05-25T12:16:47.635250Z",
     "iopub.status.idle": "2022-05-25T12:16:47.639939Z",
     "shell.execute_reply": "2022-05-25T12:16:47.640427Z",
     "shell.execute_reply.started": "2022-05-24T15:50:54.615727Z"
    },
    "papermill": {
     "duration": 0.064703,
     "end_time": "2022-05-25T12:16:47.640636",
     "exception": false,
     "start_time": "2022-05-25T12:16:47.575933",
     "status": "completed"
    },
    "tags": []
   },
   "outputs": [
    {
     "name": "stdout",
     "output_type": "stream",
     "text": [
      "first 5 rows:\n"
     ]
    },
    {
     "data": {
      "text/html": [
       "<div>\n",
       "<style scoped>\n",
       "    .dataframe tbody tr th:only-of-type {\n",
       "        vertical-align: middle;\n",
       "    }\n",
       "\n",
       "    .dataframe tbody tr th {\n",
       "        vertical-align: top;\n",
       "    }\n",
       "\n",
       "    .dataframe thead th {\n",
       "        text-align: right;\n",
       "    }\n",
       "</style>\n",
       "<table border=\"1\" class=\"dataframe\">\n",
       "  <thead>\n",
       "    <tr style=\"text-align: right;\">\n",
       "      <th></th>\n",
       "      <th>0</th>\n",
       "      <th>1</th>\n",
       "      <th>2</th>\n",
       "      <th>3</th>\n",
       "      <th>4</th>\n",
       "      <th>5</th>\n",
       "      <th>6</th>\n",
       "      <th>7</th>\n",
       "      <th>8</th>\n",
       "      <th>9</th>\n",
       "      <th>...</th>\n",
       "      <th>5447</th>\n",
       "      <th>5448</th>\n",
       "      <th>5449</th>\n",
       "      <th>5450</th>\n",
       "      <th>5451</th>\n",
       "      <th>5452</th>\n",
       "      <th>5453</th>\n",
       "      <th>5454</th>\n",
       "      <th>5455</th>\n",
       "      <th>5456</th>\n",
       "    </tr>\n",
       "  </thead>\n",
       "  <tbody>\n",
       "    <tr>\n",
       "      <th>B142</th>\n",
       "      <td>4492</td>\n",
       "      <td>4925</td>\n",
       "      <td>4403</td>\n",
       "      <td>35</td>\n",
       "      <td>2641</td>\n",
       "      <td>41</td>\n",
       "      <td>2027</td>\n",
       "      <td>9</td>\n",
       "      <td>1815</td>\n",
       "      <td>2277</td>\n",
       "      <td>...</td>\n",
       "      <td>0</td>\n",
       "      <td>0</td>\n",
       "      <td>0</td>\n",
       "      <td>0</td>\n",
       "      <td>0</td>\n",
       "      <td>0</td>\n",
       "      <td>0</td>\n",
       "      <td>0</td>\n",
       "      <td>0</td>\n",
       "      <td>0</td>\n",
       "    </tr>\n",
       "    <tr>\n",
       "      <th>A114</th>\n",
       "      <td>6762</td>\n",
       "      <td>1638</td>\n",
       "      <td>4336</td>\n",
       "      <td>1168</td>\n",
       "      <td>2821</td>\n",
       "      <td>3034</td>\n",
       "      <td>2036</td>\n",
       "      <td>74</td>\n",
       "      <td>747</td>\n",
       "      <td>2065</td>\n",
       "      <td>...</td>\n",
       "      <td>0</td>\n",
       "      <td>0</td>\n",
       "      <td>0</td>\n",
       "      <td>0</td>\n",
       "      <td>0</td>\n",
       "      <td>0</td>\n",
       "      <td>0</td>\n",
       "      <td>0</td>\n",
       "      <td>0</td>\n",
       "      <td>0</td>\n",
       "    </tr>\n",
       "    <tr>\n",
       "      <th>A68</th>\n",
       "      <td>4486</td>\n",
       "      <td>1266</td>\n",
       "      <td>2940</td>\n",
       "      <td>80</td>\n",
       "      <td>207</td>\n",
       "      <td>54</td>\n",
       "      <td>1420</td>\n",
       "      <td>7</td>\n",
       "      <td>105</td>\n",
       "      <td>1765</td>\n",
       "      <td>...</td>\n",
       "      <td>0</td>\n",
       "      <td>0</td>\n",
       "      <td>0</td>\n",
       "      <td>0</td>\n",
       "      <td>0</td>\n",
       "      <td>0</td>\n",
       "      <td>0</td>\n",
       "      <td>0</td>\n",
       "      <td>0</td>\n",
       "      <td>0</td>\n",
       "    </tr>\n",
       "    <tr>\n",
       "      <th>A3</th>\n",
       "      <td>4988</td>\n",
       "      <td>5803</td>\n",
       "      <td>3793</td>\n",
       "      <td>64</td>\n",
       "      <td>15</td>\n",
       "      <td>100</td>\n",
       "      <td>2119</td>\n",
       "      <td>12</td>\n",
       "      <td>453</td>\n",
       "      <td>1266</td>\n",
       "      <td>...</td>\n",
       "      <td>0</td>\n",
       "      <td>0</td>\n",
       "      <td>0</td>\n",
       "      <td>0</td>\n",
       "      <td>0</td>\n",
       "      <td>0</td>\n",
       "      <td>0</td>\n",
       "      <td>0</td>\n",
       "      <td>0</td>\n",
       "      <td>0</td>\n",
       "    </tr>\n",
       "    <tr>\n",
       "      <th>A51</th>\n",
       "      <td>3889</td>\n",
       "      <td>4175</td>\n",
       "      <td>3505</td>\n",
       "      <td>53</td>\n",
       "      <td>43</td>\n",
       "      <td>45</td>\n",
       "      <td>2262</td>\n",
       "      <td>9</td>\n",
       "      <td>1304</td>\n",
       "      <td>1441</td>\n",
       "      <td>...</td>\n",
       "      <td>0</td>\n",
       "      <td>0</td>\n",
       "      <td>0</td>\n",
       "      <td>0</td>\n",
       "      <td>0</td>\n",
       "      <td>0</td>\n",
       "      <td>0</td>\n",
       "      <td>0</td>\n",
       "      <td>0</td>\n",
       "      <td>0</td>\n",
       "    </tr>\n",
       "  </tbody>\n",
       "</table>\n",
       "<p>5 rows × 5457 columns</p>\n",
       "</div>"
      ],
      "text/plain": [
       "      0     1     2     3     4     5     6     7     8     9     ...  5447  \\\n",
       "B142  4492  4925  4403    35  2641    41  2027     9  1815  2277  ...     0   \n",
       "A114  6762  1638  4336  1168  2821  3034  2036    74   747  2065  ...     0   \n",
       "A68   4486  1266  2940    80   207    54  1420     7   105  1765  ...     0   \n",
       "A3    4988  5803  3793    64    15   100  2119    12   453  1266  ...     0   \n",
       "A51   3889  4175  3505    53    43    45  2262     9  1304  1441  ...     0   \n",
       "\n",
       "      5448  5449  5450  5451  5452  5453  5454  5455  5456  \n",
       "B142     0     0     0     0     0     0     0     0     0  \n",
       "A114     0     0     0     0     0     0     0     0     0  \n",
       "A68      0     0     0     0     0     0     0     0     0  \n",
       "A3       0     0     0     0     0     0     0     0     0  \n",
       "A51      0     0     0     0     0     0     0     0     0  \n",
       "\n",
       "[5 rows x 5457 columns]"
      ]
     },
     "execution_count": 19,
     "metadata": {},
     "output_type": "execute_result"
    }
   ],
   "source": [
    "print(\"first 5 rows:\")\n",
    "# Print the first 5 rows of the data\n",
    "disease_train.head()"
   ]
  },
  {
   "cell_type": "code",
   "execution_count": 20,
   "metadata": {
    "execution": {
     "iopub.execute_input": "2022-05-25T12:16:47.726711Z",
     "iopub.status.busy": "2022-05-25T12:16:47.726045Z",
     "iopub.status.idle": "2022-05-25T12:16:47.729357Z",
     "shell.execute_reply": "2022-05-25T12:16:47.728754Z"
    },
    "papermill": {
     "duration": 0.048342,
     "end_time": "2022-05-25T12:16:47.729520",
     "exception": false,
     "start_time": "2022-05-25T12:16:47.681178",
     "status": "completed"
    },
    "tags": []
   },
   "outputs": [],
   "source": [
    "# Visualization (optional)\n",
    "# import seaborn as sns\n",
    "# # KDE plots for each species\n",
    "# sns.kdeplot(data=pd_meta_abndc, x='xx', hue='yy', shade=True) # TBF\n",
    "\n",
    "# # Add title\n",
    "# plt.title(\"Distribution of xx by yy\") # TBF"
   ]
  },
  {
   "cell_type": "code",
   "execution_count": 21,
   "metadata": {
    "execution": {
     "iopub.execute_input": "2022-05-25T12:16:47.981114Z",
     "iopub.status.busy": "2022-05-25T12:16:47.980342Z",
     "iopub.status.idle": "2022-05-25T12:17:48.032200Z",
     "shell.execute_reply": "2022-05-25T12:17:48.032947Z",
     "shell.execute_reply.started": "2022-05-24T15:52:33.206248Z"
    },
    "papermill": {
     "duration": 60.263291,
     "end_time": "2022-05-25T12:17:48.033289",
     "exception": false,
     "start_time": "2022-05-25T12:16:47.769998",
     "status": "completed"
    },
    "tags": []
   },
   "outputs": [
    {
     "name": "stdout",
     "output_type": "stream",
     "text": [
      "--------------------------------------------------------------------------------\n",
      "Fold : 1\n",
      "ROC AUC score for RandomForest model, validation set: 1.0000\n",
      "F1 : 1.0000, Recall : 1.0000 , Precision : 1.0000\n",
      "[[5 0]\n",
      " [0 5]]\n",
      "ROC AUC score for Logistic Regression model, validation set: 0.9200\n",
      "F1 : 0.9091, Recall : 1.0000 , Precision : 0.8333\n",
      "[[4 1]\n",
      " [0 5]]\n",
      "ROC AUC score for MLP model, validation set: 0.9000\n",
      "F1 : 0.9091, Recall : 1.0000 , Precision : 0.8333\n",
      "[[4 1]\n",
      " [0 5]]\n",
      "ROC AUC score for XGBoost model, validation set: 0.9200\n",
      "F1 : 0.7500, Recall : 0.6000 , Precision : 1.0000\n",
      "[[5 0]\n",
      " [2 3]]\n",
      "--------------------------------------------------------------------------------\n",
      "Fold : 2\n",
      "ROC AUC score for RandomForest model, validation set: 1.0000\n",
      "F1 : 0.8889, Recall : 0.8000 , Precision : 1.0000\n",
      "[[5 0]\n",
      " [1 4]]\n",
      "ROC AUC score for Logistic Regression model, validation set: 0.5600\n",
      "F1 : 0.4444, Recall : 0.4000 , Precision : 0.5000\n",
      "[[3 2]\n",
      " [3 2]]\n",
      "ROC AUC score for MLP model, validation set: 0.6000\n",
      "F1 : 0.4444, Recall : 0.4000 , Precision : 0.5000\n",
      "[[3 2]\n",
      " [3 2]]\n",
      "ROC AUC score for XGBoost model, validation set: 0.9600\n",
      "F1 : 0.5714, Recall : 0.4000 , Precision : 1.0000\n",
      "[[5 0]\n",
      " [3 2]]\n",
      "--------------------------------------------------------------------------------\n",
      "Fold : 3\n",
      "ROC AUC score for RandomForest model, validation set: 1.0000\n",
      "F1 : 0.8889, Recall : 0.8000 , Precision : 1.0000\n",
      "[[5 0]\n",
      " [1 4]]\n",
      "ROC AUC score for Logistic Regression model, validation set: 0.9200\n",
      "F1 : 0.8333, Recall : 1.0000 , Precision : 0.7143\n",
      "[[3 2]\n",
      " [0 5]]\n",
      "ROC AUC score for MLP model, validation set: 0.9000\n",
      "F1 : 0.9091, Recall : 1.0000 , Precision : 0.8333\n",
      "[[4 1]\n",
      " [0 5]]\n",
      "ROC AUC score for XGBoost model, validation set: 1.0000\n",
      "F1 : 0.8889, Recall : 0.8000 , Precision : 1.0000\n",
      "[[5 0]\n",
      " [1 4]]\n",
      "--------------------------------------------------------------------------------\n",
      "Fold : 4\n",
      "ROC AUC score for RandomForest model, validation set: 0.7500\n",
      "F1 : 0.7273, Recall : 0.8000 , Precision : 0.6667\n",
      "[[2 2]\n",
      " [1 4]]\n",
      "ROC AUC score for Logistic Regression model, validation set: 0.9000\n",
      "F1 : 0.8000, Recall : 0.8000 , Precision : 0.8000\n",
      "[[3 1]\n",
      " [1 4]]\n",
      "ROC AUC score for MLP model, validation set: 0.4500\n",
      "F1 : 0.6000, Recall : 0.6000 , Precision : 0.6000\n",
      "[[2 2]\n",
      " [2 3]]\n",
      "ROC AUC score for XGBoost model, validation set: 0.9000\n",
      "F1 : 0.7273, Recall : 0.8000 , Precision : 0.6667\n",
      "[[2 2]\n",
      " [1 4]]\n",
      "--------------------------------------------------------------------------------\n",
      "Fold : 5\n",
      "ROC AUC score for RandomForest model, validation set: 1.0000\n",
      "F1 : 0.7273, Recall : 1.0000 , Precision : 0.5714\n",
      "[[2 3]\n",
      " [0 4]]\n",
      "ROC AUC score for Logistic Regression model, validation set: 0.5500\n",
      "F1 : 0.2857, Recall : 0.2500 , Precision : 0.3333\n",
      "[[3 2]\n",
      " [3 1]]\n",
      "ROC AUC score for MLP model, validation set: 0.4500\n",
      "F1 : 0.5000, Recall : 0.5000 , Precision : 0.5000\n",
      "[[3 2]\n",
      " [2 2]]\n",
      "ROC AUC score for XGBoost model, validation set: 1.0000\n",
      "F1 : 0.8889, Recall : 1.0000 , Precision : 0.8000\n",
      "[[4 1]\n",
      " [0 4]]\n"
     ]
    }
   ],
   "source": [
    "# this subset of data is too small to have a separate test set, so we'd have to rely on CV only\n",
    "skf = StratifiedKFold(n_splits = FOLDS, shuffle = True, random_state = SEED)\n",
    "# for fold, (idxT,idxV) in enumerate(skf.split(pd_meta_abndc, binary_target)):\n",
    "for fold, (idxT,idxV) in enumerate(skf.split(disease_train, disease_y_train)):    \n",
    "    # set training and validation indices\n",
    "    X_train = disease_train.iloc[idxT]\n",
    "    X_val = disease_train.iloc[idxV]\n",
    "    y_train = disease_y_train[idxT]\n",
    "    y_val = disease_y_train[idxV]\n",
    "    \n",
    "    \n",
    "    # Random Forest\n",
    "    clf = RandomForestClassifier(n_estimators = 500, random_state = SEED, verbose = 0)\n",
    "    clf.fit(X_train, y_train )\n",
    "\n",
    "    RF_pred_class = clf.predict(X_val)\n",
    "    RF_preds = clf.predict_proba(X_val)\n",
    "    \n",
    "    RF_AUC_test_score = roc_auc_score(y_val, RF_preds[:,1])\n",
    "    RF_f1_test = f1_score(y_val, RF_pred_class)\n",
    "    RF_recall_test = recall_score(y_val, RF_pred_class)\n",
    "    RF_precision_test = precision_score(y_val, RF_pred_class)\n",
    "    \n",
    "    if show_fold_stats:\n",
    "        print('-' * 80)\n",
    "        print('Fold : %s'%(fold+1))\n",
    "        print('ROC AUC score for RandomForest model, validation set: %.4f'%RF_AUC_test_score)\n",
    "        print('F1 : %.4f, Recall : %.4f , Precision : %.4f'%(RF_f1_test, RF_recall_test, RF_precision_test))\n",
    "        print(confusion_matrix(y_val, RF_pred_class))\n",
    "    \n",
    "    \n",
    "    # Logistic Regression\n",
    "    LogReg_model = LogisticRegression(random_state=SEED)\n",
    "    LogReg_model.fit(X_train, y_train)\n",
    "    LogReg_preds = LogReg_model.predict_proba(X_val)\n",
    "    LogReg_class = LogReg_model.predict(X_val)\n",
    "\n",
    "    LogReg_score = roc_auc_score(y_val, LogReg_preds[:,1])\n",
    "    LogReg_f1 = f1_score(y_val, LogReg_class)\n",
    "    LogReg_recall = recall_score(y_val, LogReg_class)\n",
    "    LogReg_precision = precision_score(y_val, LogReg_class)\n",
    "    \n",
    "    if show_fold_stats:        \n",
    "        print('ROC AUC score for Logistic Regression model, validation set: %.4f'%LogReg_score)\n",
    "        print('F1 : %.4f, Recall : %.4f , Precision : %.4f'%(LogReg_f1, LogReg_recall, LogReg_precision))\n",
    "        print(confusion_matrix(y_val, LogReg_class))\n",
    "    \n",
    "    # Feedforward neural network (multilayer perceptron)\n",
    "    \n",
    "    # hyperparameter tuning (optional)\n",
    "    # MLP_model = GridSearchCV(MLPClassifier(max_iter=1000,random_state=SEED), MLP_param_grid, cv=3,\n",
    "    #                           scoring='accuracy')\n",
    "  \n",
    "\n",
    "    MLP_model = MLPClassifier(hidden_layer_sizes=(50,),max_iter=500,random_state=SEED)\n",
    "    # you can set hyperparameters see: https://scikit-learn.org/stable/modules/generated/sklearn.neural_network.MLPClassifier.html\n",
    "    # some parameter combinations will not converge as can be seen on the\n",
    "    # plots so they are ignored here\n",
    "    with warnings.catch_warnings():\n",
    "        warnings.filterwarnings(\n",
    "            \"ignore\", category=ConvergenceWarning, module=\"sklearn\"\n",
    "        )\n",
    "        MLP_model.fit(X_train, y_train)\n",
    "        \n",
    "    #     print(\"Best parameters set found on development set:\")\n",
    "    #     print(MLP_model.best_params_)\n",
    "    MLP_preds = MLP_model.predict_proba(X_val)\n",
    "    MLP_class = MLP_model.predict(X_val)\n",
    "\n",
    "    MLP_score = roc_auc_score(y_val, MLP_preds[:,1])\n",
    "    MLP_f1 = f1_score(y_val, MLP_class)\n",
    "    MLP_recall = recall_score(y_val, MLP_class)\n",
    "    MLP_precision = precision_score(y_val, MLP_class)\n",
    "    \n",
    "    if show_fold_stats:        \n",
    "        print('ROC AUC score for MLP model, validation set: %.4f'%MLP_score)\n",
    "        print('F1 : %.4f, Recall : %.4f , Precision : %.4f'%(MLP_f1, MLP_recall, MLP_precision))\n",
    "        print(confusion_matrix(y_val, MLP_class))\n",
    "        \n",
    "    # XGBoost\n",
    "    XGB_model = XGBClassifier(n_estimators=5000, max_depth=None, \n",
    "                        learning_rate=0.005,\n",
    "                        objective='binary:logistic', \n",
    "                        metric='auc',\n",
    "                        verbosity  = VERBOSE,\n",
    "                        # tree_method = 'gpu_hist',\n",
    "                        use_label_encoder=False,\n",
    "                        n_jobs=-1, random_state  = SEED )\n",
    "    \n",
    "    XGB_model.fit(X_train, y_train,\n",
    "                    eval_set = [(X_val, y_val)],\n",
    "                    eval_metric=['logloss'],\n",
    "                    early_stopping_rounds = 100, verbose = VERBOSE )\n",
    "        \n",
    "    XGB_preds = XGB_model.predict_proba(X_val)\n",
    "    XGB_class = XGB_model.predict(X_val)\n",
    "\n",
    "    XGB_score = roc_auc_score(y_val, XGB_preds[:,1])\n",
    "    XGB_f1 = f1_score(y_val, XGB_class)\n",
    "    XGB_recall = recall_score(y_val, XGB_class)\n",
    "    XGB_precision = precision_score(y_val, XGB_class)\n",
    "\n",
    "    if show_fold_stats:        \n",
    "        print('ROC AUC score for XGBoost model, validation set: %.4f'%XGB_score)\n",
    "        print('F1 : %.4f, Recall : %.4f , Precision : %.4f'%(XGB_f1, XGB_recall, XGB_precision))\n",
    "        print(confusion_matrix(y_val, XGB_class))  \n",
    "        \n",
    "\n"
   ]
  },
  {
   "cell_type": "code",
   "execution_count": 22,
   "metadata": {
    "execution": {
     "iopub.execute_input": "2022-05-25T12:17:48.160337Z",
     "iopub.status.busy": "2022-05-25T12:17:48.146645Z",
     "iopub.status.idle": "2022-05-25T12:18:09.805590Z",
     "shell.execute_reply": "2022-05-25T12:18:09.806089Z",
     "shell.execute_reply.started": "2022-05-24T15:55:03.356365Z"
    },
    "papermill": {
     "duration": 21.723087,
     "end_time": "2022-05-25T12:18:09.806314",
     "exception": false,
     "start_time": "2022-05-25T12:17:48.083227",
     "status": "completed"
    },
    "tags": []
   },
   "outputs": [
    {
     "name": "stdout",
     "output_type": "stream",
     "text": [
      "--------------------------------------------------------------------------------\n",
      "Fold : 5\n",
      "ROC AUC score for RandomForest model, validation set: 1.0000\n",
      "F1 : 1.0000, Recall : 1.0000 , Precision : 1.0000\n",
      "[[24  0]\n",
      " [ 0 24]]\n",
      "ROC AUC score for Logistic Regression model, validation set: 1.0000\n",
      "F1 : 1.0000, Recall : 1.0000 , Precision : 1.0000\n",
      "[[24  0]\n",
      " [ 0 24]]\n",
      "ROC AUC score for MLP model, validation set: 1.0000\n",
      "F1 : 1.0000, Recall : 1.0000 , Precision : 1.0000\n",
      "[[24  0]\n",
      " [ 0 24]]\n",
      "ROC AUC score for XGBoost model, validation set: 1.0000\n",
      "F1 : 1.0000, Recall : 1.0000 , Precision : 1.0000\n",
      "[[24  0]\n",
      " [ 0 24]]\n",
      "ROC AUC score for RF for test set: 0.9444\n",
      "ROC AUC score for XGBoost model test set: 0.9167\n",
      "ROC AUC score for Logistic Regression for test set: 0.9167\n",
      "ROC AUC score for MLP for test set: 0.7778\n",
      "ROC AUC score averaged between 2 models for test set: 0.9444\n",
      "F1 : 0.8333, Recall : 0.8333 , Precision : 0.8333\n",
      "[[5 1]\n",
      " [1 5]]\n"
     ]
    },
    {
     "data": {
      "image/png": "[encoded data removed]",
      "text/plain": [
       "<Figure size 432x288 with 1 Axes>"
      ]
     },
     "metadata": {
      "needs_background": "light"
     },
     "output_type": "display_data"
    },
    {
     "data": {
      "image/png": "[encoded data removed]",
      "text/plain": [
       "<Figure size 432x288 with 2 Axes>"
      ]
     },
     "metadata": {
      "needs_background": "light"
     },
     "output_type": "display_data"
    },
    {
     "data": {
      "image/png": "[encoded data removed]",
      "text/plain": [
       "<Figure size 432x288 with 1 Axes>"
      ]
     },
     "metadata": {
      "needs_background": "light"
     },
     "output_type": "display_data"
    },
    {
     "data": {
      "image/png": "[encoded data removed]",
      "text/plain": [
       "<Figure size 432x288 with 2 Axes>"
      ]
     },
     "metadata": {
      "needs_background": "light"
     },
     "output_type": "display_data"
    },
    {
     "data": {
      "image/png": "[encoded data removed]",
      "text/plain": [
       "<Figure size 432x288 with 1 Axes>"
      ]
     },
     "metadata": {
      "needs_background": "light"
     },
     "output_type": "display_data"
    },
    {
     "data": {
      "image/png": "[encoded data removed]",
      "text/plain": [
       "<Figure size 432x288 with 2 Axes>"
      ]
     },
     "metadata": {
      "needs_background": "light"
     },
     "output_type": "display_data"
    },
    {
     "data": {
      "image/png": "[encoded data removed]",
      "text/plain": [
       "<Figure size 432x288 with 1 Axes>"
      ]
     },
     "metadata": {
      "needs_background": "light"
     },
     "output_type": "display_data"
    },
    {
     "data": {
      "image/png": "[encoded data removed]",
      "text/plain": [
       "<Figure size 432x288 with 2 Axes>"
      ]
     },
     "metadata": {
      "needs_background": "light"
     },
     "output_type": "display_data"
    }
   ],
   "source": [
    "# Now we can train the learners (models) with the whole training dataset and evaluate the models on the test set\n",
    "X_train = disease_train\n",
    "X_val = disease_train\n",
    "y_train = disease_y_train\n",
    "y_val = disease_y_train\n",
    "    \n",
    "    \n",
    "# Random Forest\n",
    "clf = RandomForestClassifier(n_estimators = 500, random_state = SEED, verbose = 0)\n",
    "clf.fit(X_train, y_train )\n",
    "\n",
    "RF_pred_class = clf.predict(X_val)\n",
    "RF_preds = clf.predict_proba(X_val)\n",
    "\n",
    "RF_AUC_test_score = roc_auc_score(y_val, RF_preds[:,1])\n",
    "RF_f1_test = f1_score(y_val, RF_pred_class)\n",
    "RF_recall_test = recall_score(y_val, RF_pred_class)\n",
    "RF_precision_test = precision_score(y_val, RF_pred_class)\n",
    "    \n",
    "if show_fold_stats:\n",
    "    print('-' * 80)\n",
    "    print('Fold : %s'%(fold+1))\n",
    "    print('ROC AUC score for RandomForest model, validation set: %.4f'%RF_AUC_test_score)\n",
    "    print('F1 : %.4f, Recall : %.4f , Precision : %.4f'%(RF_f1_test, RF_recall_test, RF_precision_test))\n",
    "    print(confusion_matrix(y_val, RF_pred_class))\n",
    "    \n",
    "    \n",
    "# Logistic Regression\n",
    "LogReg_model = LogisticRegression(random_state=SEED)\n",
    "LogReg_model.fit(X_train, y_train)\n",
    "LogReg_preds = LogReg_model.predict_proba(X_val)\n",
    "LogReg_class = LogReg_model.predict(X_val)\n",
    "\n",
    "LogReg_score = roc_auc_score(y_val, LogReg_preds[:,1])\n",
    "LogReg_f1 = f1_score(y_val, LogReg_class)\n",
    "LogReg_recall = recall_score(y_val, LogReg_class)\n",
    "LogReg_precision = precision_score(y_val, LogReg_class)\n",
    "    \n",
    "if show_fold_stats:        \n",
    "    print('ROC AUC score for Logistic Regression model, validation set: %.4f'%LogReg_score)\n",
    "    print('F1 : %.4f, Recall : %.4f , Precision : %.4f'%(LogReg_f1, LogReg_recall, LogReg_precision))\n",
    "    print(confusion_matrix(y_val, LogReg_class))\n",
    "\n",
    "# Feedforward neural network (multilayer perceptron)\n",
    "\n",
    "# hyperparameter tuning (optional)\n",
    "# MLP_model = GridSearchCV(MLPClassifier(max_iter=1000,random_state=SEED), MLP_param_grid, cv=3,\n",
    "#                           scoring='accuracy')\n",
    "\n",
    "\n",
    "MLP_model = MLPClassifier(hidden_layer_sizes=(50,),max_iter=500,random_state=SEED)\n",
    "# you can set hyperparameters see: https://scikit-learn.org/stable/modules/generated/sklearn.neural_network.MLPClassifier.html\n",
    "# some parameter combinations will not converge as can be seen on the\n",
    "# plots so they are ignored here\n",
    "with warnings.catch_warnings():\n",
    "    warnings.filterwarnings(\n",
    "        \"ignore\", category=ConvergenceWarning, module=\"sklearn\"\n",
    "    )\n",
    "    MLP_model.fit(X_train, y_train)\n",
    "\n",
    "#     print(\"Best parameters set found on development set:\")\n",
    "#     print(MLP_model.best_params_)\n",
    "MLP_preds = MLP_model.predict_proba(X_val)\n",
    "MLP_class = MLP_model.predict(X_val)\n",
    "\n",
    "MLP_score = roc_auc_score(y_val, MLP_preds[:,1])\n",
    "MLP_f1 = f1_score(y_val, MLP_class)\n",
    "MLP_recall = recall_score(y_val, MLP_class)\n",
    "MLP_precision = precision_score(y_val, MLP_class)\n",
    "\n",
    "if show_fold_stats:        \n",
    "    print('ROC AUC score for MLP model, validation set: %.4f'%MLP_score)\n",
    "    print('F1 : %.4f, Recall : %.4f , Precision : %.4f'%(MLP_f1, MLP_recall, MLP_precision))\n",
    "    print(confusion_matrix(y_val, MLP_class))\n",
    "\n",
    "# XGBoost\n",
    "XGB_model = XGBClassifier(n_estimators=5000, max_depth=None, \n",
    "                    learning_rate=0.005,\n",
    "                    objective='binary:logistic', \n",
    "                    metric='auc',\n",
    "                    verbosity  = VERBOSE,\n",
    "                    # tree_method = 'gpu_hist',\n",
    "                    use_label_encoder=False,\n",
    "                    n_jobs=-1, random_state  = SEED )\n",
    "\n",
    "XGB_model.fit(X_train, y_train,\n",
    "                eval_set = [(X_val, y_val)],\n",
    "                eval_metric=['logloss'],\n",
    "                early_stopping_rounds = 100, verbose = VERBOSE )\n",
    "\n",
    "XGB_preds = XGB_model.predict_proba(X_val)\n",
    "XGB_class = XGB_model.predict(X_val)\n",
    "\n",
    "XGB_score = roc_auc_score(y_val, XGB_preds[:,1])\n",
    "XGB_f1 = f1_score(y_val, XGB_class)\n",
    "XGB_recall = recall_score(y_val, XGB_class)\n",
    "XGB_precision = precision_score(y_val, XGB_class)\n",
    "\n",
    "if show_fold_stats:        \n",
    "    print('ROC AUC score for XGBoost model, validation set: %.4f'%XGB_score)\n",
    "    print('F1 : %.4f, Recall : %.4f , Precision : %.4f'%(XGB_f1, XGB_recall, XGB_precision))\n",
    "    print(confusion_matrix(y_val, XGB_class))  \n",
    "\n",
    "        \n",
    "        \n",
    "        \n",
    "        \n",
    "RF_preds_test = clf.predict_proba(disease_test)\n",
    "XGB_preds_test = XGB_model.predict_proba(disease_test)\n",
    "LogReg_preds_test = LogReg_model.predict_proba(disease_test)\n",
    "MLP_preds_test = MLP_model.predict_proba(disease_test)\n",
    "avg_preds_test = (RF_preds_test[:,1] + XGB_preds_test[:,1] + LogReg_preds_test[:,1] + MLP_preds_test[:,1]) / 4\n",
    "\n",
    "RF_test_AUC = roc_auc_score(disease_y_test, RF_preds_test[:,1])\n",
    "print('ROC AUC score for RF for test set: %.4f'%RF_test_AUC)\n",
    "XGB_test_AUC = roc_auc_score(disease_y_test, XGB_preds_test[:,1])\n",
    "print('ROC AUC score for XGBoost model test set: %.4f'%XGB_test_AUC)\n",
    "LogReg_test_AUC = roc_auc_score(disease_y_test, LogReg_preds_test[:,1])\n",
    "print('ROC AUC score for Logistic Regression for test set: %.4f'%LogReg_test_AUC)\n",
    "MLP_test_AUC = roc_auc_score(disease_y_test, MLP_preds_test[:,1])\n",
    "print('ROC AUC score for MLP for test set: %.4f'%MLP_test_AUC)\n",
    "average_AUC = roc_auc_score(disease_y_test, avg_preds_test )\n",
    "print('ROC AUC score averaged between 2 models for test set: %.4f'%average_AUC)\n",
    "    \n",
    "avg_class = np.where(avg_preds_test < 0.7, 0, 1)\n",
    "print('F1 : %.4f, Recall : %.4f , Precision : %.4f'%(f1_score(disease_y_test, avg_class), recall_score(disease_y_test, avg_class), precision_score(disease_y_test, avg_class)))\n",
    "print(confusion_matrix(disease_y_test, avg_class))\n",
    "    \n",
    "# ax = plt.gca()\n",
    "RF_disp = metrics.plot_roc_curve(clf, disease_test, disease_y_test)\n",
    "RF_CM = metrics.plot_confusion_matrix(clf, disease_test, disease_y_test)  \n",
    "LogReg_disp = metrics.plot_roc_curve(LogReg_model, disease_test, disease_y_test)\n",
    "LogReg_CM = metrics.plot_confusion_matrix(LogReg_model, disease_test, disease_y_test)\n",
    "MLP_disp = metrics.plot_roc_curve(MLP_model, disease_test, disease_y_test)\n",
    "MLP_CM = metrics.plot_confusion_matrix(MLP_model, disease_test, disease_y_test)\n",
    "XGB_disp = metrics.plot_roc_curve(XGB_model, disease_test, disease_y_test)\n",
    "XGB_CM = metrics.plot_confusion_matrix(XGB_model, disease_test, disease_y_test)\n",
    "\n",
    "# RF_disp = RocCurveDisplay.from_estimator(clf, X_test, y_test, ax=ax, alpha=0.8)\n",
    "# LogReg_disp = RocCurveDisplay.from_estimator(LogReg_model, X_test, y_test, ax=ax, alpha=0.8)\n",
    "# MLP_disp = RocCurveDisplay.from_estimator(MLP_model, X_test, y_test, ax=ax, alpha=0.8)\n",
    "# XGB_disp = RocCurveDisplay.from_estimator(XGB_model, X_test, y_test, ax=ax, alpha=0.8)\n",
    "# plt.plot(ax=ax, alpha=0.8)\n",
    "plt.show()"
   ]
  },
  {
   "cell_type": "markdown",
   "metadata": {
    "papermill": {
     "duration": 0.055531,
     "end_time": "2022-05-25T12:18:09.919483",
     "exception": false,
     "start_time": "2022-05-25T12:18:09.863952",
     "status": "completed"
    },
    "tags": []
   },
   "source": [
    "Now you have learned how to develop some powerful machine learning models for tabular data. It's time to practice with tweaking the parameters and see how they change the performance.\n",
    "\n",
    "\n",
    "<a href=\"https://imgflip.com/i/6hc2nv\"><img src=\"https://i.imgflip.com/6hc2nv.jpg\" title=\"made at imgflip.com\"/></a><div><a href=\"https://imgflip.com/memegenerator\">from Imgflip Meme Generator</a></div>"
   ]
  }
 ],
 "metadata": {
  "kernelspec": {
   "display_name": "Python 3",
   "language": "python",
   "name": "python3"
  },
  "language_info": {
   "codemirror_mode": {
    "name": "ipython",
    "version": 3
   },
   "file_extension": ".py",
   "mimetype": "text/x-python",
   "name": "python",
   "nbconvert_exporter": "python",
   "pygments_lexer": "ipython3",
   "version": "3.12.3"
  },
  "papermill": {
   "default_parameters": {},
   "duration": 236.051301,
   "end_time": "2022-05-25T12:18:10.686839",
   "environment_variables": {},
   "exception": null,
   "input_path": "__notebook__.ipynb",
   "output_path": "__notebook__.ipynb",
   "parameters": {},
   "start_time": "2022-05-25T12:14:14.635538",
   "version": "2.2.2"
  }
 },
 "nbformat": 4,
 "nbformat_minor": 4
}
